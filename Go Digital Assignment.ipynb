{
 "cells": [
  {
   "cell_type": "markdown",
   "id": "532bf118",
   "metadata": {},
   "source": [
    "### Import Libraries"
   ]
  },
  {
   "cell_type": "code",
   "execution_count": 2,
   "id": "ee490e00",
   "metadata": {},
   "outputs": [],
   "source": [
    "import numpy as np\n",
    "import os\n",
    "import pandas as pd\n",
    "import matplotlib.pyplot as plt\n",
    "import matplotlib \n",
    "%matplotlib inline"
   ]
  },
  {
   "cell_type": "markdown",
   "id": "900324a4",
   "metadata": {},
   "source": [
    "### Load Datasets"
   ]
  },
  {
   "cell_type": "code",
   "execution_count": 4,
   "id": "5ca22406",
   "metadata": {},
   "outputs": [
    {
     "data": {
      "text/plain": [
       "'C:\\\\Users\\\\HP'"
      ]
     },
     "execution_count": 4,
     "metadata": {},
     "output_type": "execute_result"
    }
   ],
   "source": [
    "os.getcwd()"
   ]
  },
  {
   "cell_type": "code",
   "execution_count": 5,
   "id": "e2840954",
   "metadata": {},
   "outputs": [],
   "source": [
    "os.chdir(\"C:\\\\Users\\\\HP\\\\Desktop\\\\New folder (2)\\\\python pro\\\\Data For Python Assessment\")"
   ]
  },
  {
   "cell_type": "markdown",
   "id": "212c2ca5",
   "metadata": {},
   "source": [
    "##### load employee data"
   ]
  },
  {
   "cell_type": "code",
   "execution_count": 24,
   "id": "8b6a7074",
   "metadata": {},
   "outputs": [],
   "source": [
    "\n",
    "emp_df = pd.read_csv('employee_data.csv')"
   ]
  },
  {
   "cell_type": "code",
   "execution_count": 25,
   "id": "53642e36",
   "metadata": {},
   "outputs": [
    {
     "data": {
      "text/html": [
       "<div>\n",
       "<style scoped>\n",
       "    .dataframe tbody tr th:only-of-type {\n",
       "        vertical-align: middle;\n",
       "    }\n",
       "\n",
       "    .dataframe tbody tr th {\n",
       "        vertical-align: top;\n",
       "    }\n",
       "\n",
       "    .dataframe thead th {\n",
       "        text-align: right;\n",
       "    }\n",
       "</style>\n",
       "<table border=\"1\" class=\"dataframe\">\n",
       "  <thead>\n",
       "    <tr style=\"text-align: right;\">\n",
       "      <th></th>\n",
       "      <th>AGENT_ID</th>\n",
       "      <th>AGENT_NAME</th>\n",
       "      <th>DATE_OF_JOINING</th>\n",
       "      <th>ADDRESS_LINE1</th>\n",
       "      <th>ADDRESS_LINE2</th>\n",
       "      <th>CITY</th>\n",
       "      <th>STATE</th>\n",
       "      <th>POSTAL_CODE</th>\n",
       "      <th>EMP_ROUTING_NUMBER</th>\n",
       "      <th>EMP_ACCT_NUMBER</th>\n",
       "    </tr>\n",
       "  </thead>\n",
       "  <tbody>\n",
       "    <tr>\n",
       "      <th>0</th>\n",
       "      <td>AGENT00001</td>\n",
       "      <td>Ray Johns</td>\n",
       "      <td>1993-06-05</td>\n",
       "      <td>1402 Maggies Way</td>\n",
       "      <td>NaN</td>\n",
       "      <td>Waterbury Center</td>\n",
       "      <td>VT</td>\n",
       "      <td>5677</td>\n",
       "      <td>34584958</td>\n",
       "      <td>HKUN51252328472585</td>\n",
       "    </tr>\n",
       "    <tr>\n",
       "      <th>1</th>\n",
       "      <td>AGENT00002</td>\n",
       "      <td>Angelo Borjon</td>\n",
       "      <td>2005-12-27</td>\n",
       "      <td>414 Tanya Pass</td>\n",
       "      <td>NaN</td>\n",
       "      <td>Panama City</td>\n",
       "      <td>FL</td>\n",
       "      <td>32404</td>\n",
       "      <td>107363763</td>\n",
       "      <td>OPIS19290040088204</td>\n",
       "    </tr>\n",
       "    <tr>\n",
       "      <th>2</th>\n",
       "      <td>AGENT00003</td>\n",
       "      <td>Candy Spellman</td>\n",
       "      <td>2003-09-02</td>\n",
       "      <td>606 National Street</td>\n",
       "      <td>#306</td>\n",
       "      <td>Fayetteville</td>\n",
       "      <td>AR</td>\n",
       "      <td>72701</td>\n",
       "      <td>81744097</td>\n",
       "      <td>YSCJ67489688482590</td>\n",
       "    </tr>\n",
       "    <tr>\n",
       "      <th>3</th>\n",
       "      <td>AGENT00004</td>\n",
       "      <td>Mary Smith</td>\n",
       "      <td>2004-09-23</td>\n",
       "      <td>235 Hugh Thomas Drive</td>\n",
       "      <td>NaN</td>\n",
       "      <td>Panama City</td>\n",
       "      <td>FL</td>\n",
       "      <td>32404</td>\n",
       "      <td>67563771</td>\n",
       "      <td>ZANG21285355574581</td>\n",
       "    </tr>\n",
       "    <tr>\n",
       "      <th>4</th>\n",
       "      <td>AGENT00005</td>\n",
       "      <td>Mildred Diaz</td>\n",
       "      <td>2011-06-21</td>\n",
       "      <td>3426 Broadview Street</td>\n",
       "      <td>NaN</td>\n",
       "      <td>Montgomery</td>\n",
       "      <td>AL</td>\n",
       "      <td>36110</td>\n",
       "      <td>114951317</td>\n",
       "      <td>DZFS82244494451134</td>\n",
       "    </tr>\n",
       "  </tbody>\n",
       "</table>\n",
       "</div>"
      ],
      "text/plain": [
       "     AGENT_ID      AGENT_NAME DATE_OF_JOINING          ADDRESS_LINE1  \\\n",
       "0  AGENT00001       Ray Johns      1993-06-05       1402 Maggies Way   \n",
       "1  AGENT00002   Angelo Borjon      2005-12-27         414 Tanya Pass   \n",
       "2  AGENT00003  Candy Spellman      2003-09-02    606 National Street   \n",
       "3  AGENT00004      Mary Smith      2004-09-23  235 Hugh Thomas Drive   \n",
       "4  AGENT00005    Mildred Diaz      2011-06-21  3426 Broadview Street   \n",
       "\n",
       "  ADDRESS_LINE2              CITY STATE  POSTAL_CODE  EMP_ROUTING_NUMBER  \\\n",
       "0           NaN  Waterbury Center    VT         5677            34584958   \n",
       "1           NaN       Panama City    FL        32404           107363763   \n",
       "2          #306      Fayetteville    AR        72701            81744097   \n",
       "3           NaN       Panama City    FL        32404            67563771   \n",
       "4           NaN        Montgomery    AL        36110           114951317   \n",
       "\n",
       "      EMP_ACCT_NUMBER  \n",
       "0  HKUN51252328472585  \n",
       "1  OPIS19290040088204  \n",
       "2  YSCJ67489688482590  \n",
       "3  ZANG21285355574581  \n",
       "4  DZFS82244494451134  "
      ]
     },
     "execution_count": 25,
     "metadata": {},
     "output_type": "execute_result"
    }
   ],
   "source": [
    "# Quick view of dataset\n",
    "\n",
    "emp_df.head()"
   ]
  },
  {
   "cell_type": "code",
   "execution_count": 26,
   "id": "6879a39c",
   "metadata": {},
   "outputs": [
    {
     "data": {
      "text/plain": [
       "(1200, 10)"
      ]
     },
     "execution_count": 26,
     "metadata": {},
     "output_type": "execute_result"
    }
   ],
   "source": [
    "#Shape of dataframe\n",
    "\n",
    "emp_df.shape"
   ]
  },
  {
   "cell_type": "code",
   "execution_count": 27,
   "id": "e129828a",
   "metadata": {},
   "outputs": [
    {
     "name": "stdout",
     "output_type": "stream",
     "text": [
      "<class 'pandas.core.frame.DataFrame'>\n",
      "RangeIndex: 1200 entries, 0 to 1199\n",
      "Data columns (total 10 columns):\n",
      " #   Column              Non-Null Count  Dtype \n",
      "---  ------              --------------  ----- \n",
      " 0   AGENT_ID            1200 non-null   object\n",
      " 1   AGENT_NAME          1200 non-null   object\n",
      " 2   DATE_OF_JOINING     1200 non-null   object\n",
      " 3   ADDRESS_LINE1       1200 non-null   object\n",
      " 4   ADDRESS_LINE2       179 non-null    object\n",
      " 5   CITY                1193 non-null   object\n",
      " 6   STATE               1200 non-null   object\n",
      " 7   POSTAL_CODE         1200 non-null   int64 \n",
      " 8   EMP_ROUTING_NUMBER  1200 non-null   int64 \n",
      " 9   EMP_ACCT_NUMBER     1200 non-null   object\n",
      "dtypes: int64(2), object(8)\n",
      "memory usage: 93.9+ KB\n"
     ]
    }
   ],
   "source": [
    "#information of the employee data \n",
    "\n",
    "emp_df.info()"
   ]
  },
  {
   "cell_type": "markdown",
   "id": "73ae5156",
   "metadata": {},
   "source": [
    "##### Load Insurance data"
   ]
  },
  {
   "cell_type": "code",
   "execution_count": 28,
   "id": "83a62e1b",
   "metadata": {},
   "outputs": [],
   "source": [
    "insurance_df = pd.read_csv(\"insurance_data.csv\")"
   ]
  },
  {
   "cell_type": "code",
   "execution_count": 29,
   "id": "0eb29d41",
   "metadata": {},
   "outputs": [
    {
     "data": {
      "text/html": [
       "<div>\n",
       "<style scoped>\n",
       "    .dataframe tbody tr th:only-of-type {\n",
       "        vertical-align: middle;\n",
       "    }\n",
       "\n",
       "    .dataframe tbody tr th {\n",
       "        vertical-align: top;\n",
       "    }\n",
       "\n",
       "    .dataframe thead th {\n",
       "        text-align: right;\n",
       "    }\n",
       "</style>\n",
       "<table border=\"1\" class=\"dataframe\">\n",
       "  <thead>\n",
       "    <tr style=\"text-align: right;\">\n",
       "      <th></th>\n",
       "      <th>TXN_DATE_TIME</th>\n",
       "      <th>TRANSACTION_ID</th>\n",
       "      <th>CUSTOMER_ID</th>\n",
       "      <th>POLICY_NUMBER</th>\n",
       "      <th>POLICY_EFF_DT</th>\n",
       "      <th>LOSS_DT</th>\n",
       "      <th>REPORT_DT</th>\n",
       "      <th>INSURANCE_TYPE</th>\n",
       "      <th>PREMIUM_AMOUNT</th>\n",
       "      <th>CLAIM_AMOUNT</th>\n",
       "      <th>...</th>\n",
       "      <th>CLAIM_STATUS</th>\n",
       "      <th>INCIDENT_SEVERITY</th>\n",
       "      <th>AUTHORITY_CONTACTED</th>\n",
       "      <th>ANY_INJURY</th>\n",
       "      <th>POLICE_REPORT_AVAILABLE</th>\n",
       "      <th>INCIDENT_STATE</th>\n",
       "      <th>INCIDENT_CITY</th>\n",
       "      <th>INCIDENT_HOUR_OF_THE_DAY</th>\n",
       "      <th>AGENT_ID</th>\n",
       "      <th>VENDOR_ID</th>\n",
       "    </tr>\n",
       "  </thead>\n",
       "  <tbody>\n",
       "    <tr>\n",
       "      <th>0</th>\n",
       "      <td>2020-06-01 00:00:00</td>\n",
       "      <td>TXN00000001</td>\n",
       "      <td>A00003822</td>\n",
       "      <td>PLC00008468</td>\n",
       "      <td>2015-06-23</td>\n",
       "      <td>2020-05-16</td>\n",
       "      <td>2020-05-21</td>\n",
       "      <td>Health</td>\n",
       "      <td>157.13</td>\n",
       "      <td>9000</td>\n",
       "      <td>...</td>\n",
       "      <td>A</td>\n",
       "      <td>Major Loss</td>\n",
       "      <td>Police</td>\n",
       "      <td>0</td>\n",
       "      <td>1</td>\n",
       "      <td>GA</td>\n",
       "      <td>Savannah</td>\n",
       "      <td>4</td>\n",
       "      <td>AGENT00413</td>\n",
       "      <td>VNDR00556</td>\n",
       "    </tr>\n",
       "    <tr>\n",
       "      <th>1</th>\n",
       "      <td>2020-06-01 00:00:00</td>\n",
       "      <td>TXN00000002</td>\n",
       "      <td>A00008149</td>\n",
       "      <td>PLC00009594</td>\n",
       "      <td>2018-04-21</td>\n",
       "      <td>2020-05-13</td>\n",
       "      <td>2020-05-18</td>\n",
       "      <td>Property</td>\n",
       "      <td>141.71</td>\n",
       "      <td>26000</td>\n",
       "      <td>...</td>\n",
       "      <td>A</td>\n",
       "      <td>Total Loss</td>\n",
       "      <td>Ambulance</td>\n",
       "      <td>1</td>\n",
       "      <td>0</td>\n",
       "      <td>AL</td>\n",
       "      <td>Montgomery</td>\n",
       "      <td>0</td>\n",
       "      <td>AGENT00769</td>\n",
       "      <td>VNDR00592</td>\n",
       "    </tr>\n",
       "    <tr>\n",
       "      <th>2</th>\n",
       "      <td>2020-06-01 00:00:00</td>\n",
       "      <td>TXN00000003</td>\n",
       "      <td>A00003172</td>\n",
       "      <td>PLC00007969</td>\n",
       "      <td>2019-10-03</td>\n",
       "      <td>2020-05-21</td>\n",
       "      <td>2020-05-26</td>\n",
       "      <td>Property</td>\n",
       "      <td>157.24</td>\n",
       "      <td>13000</td>\n",
       "      <td>...</td>\n",
       "      <td>A</td>\n",
       "      <td>Total Loss</td>\n",
       "      <td>Police</td>\n",
       "      <td>0</td>\n",
       "      <td>1</td>\n",
       "      <td>CO</td>\n",
       "      <td>Grand Junction</td>\n",
       "      <td>19</td>\n",
       "      <td>AGENT00883</td>\n",
       "      <td>VNDR00031</td>\n",
       "    </tr>\n",
       "    <tr>\n",
       "      <th>3</th>\n",
       "      <td>2020-06-01 00:00:00</td>\n",
       "      <td>TXN00000004</td>\n",
       "      <td>A00007572</td>\n",
       "      <td>PLC00009292</td>\n",
       "      <td>2016-11-29</td>\n",
       "      <td>2020-05-14</td>\n",
       "      <td>2020-05-19</td>\n",
       "      <td>Health</td>\n",
       "      <td>172.87</td>\n",
       "      <td>16000</td>\n",
       "      <td>...</td>\n",
       "      <td>A</td>\n",
       "      <td>Minor Loss</td>\n",
       "      <td>Ambulance</td>\n",
       "      <td>0</td>\n",
       "      <td>0</td>\n",
       "      <td>GA</td>\n",
       "      <td>Savannah</td>\n",
       "      <td>12</td>\n",
       "      <td>AGENT00278</td>\n",
       "      <td>VNDR00075</td>\n",
       "    </tr>\n",
       "    <tr>\n",
       "      <th>4</th>\n",
       "      <td>2020-06-01 00:00:00</td>\n",
       "      <td>TXN00000005</td>\n",
       "      <td>A00008173</td>\n",
       "      <td>PLC00000204</td>\n",
       "      <td>2011-12-26</td>\n",
       "      <td>2020-05-17</td>\n",
       "      <td>2020-05-22</td>\n",
       "      <td>Travel</td>\n",
       "      <td>88.53</td>\n",
       "      <td>3000</td>\n",
       "      <td>...</td>\n",
       "      <td>A</td>\n",
       "      <td>Major Loss</td>\n",
       "      <td>Police</td>\n",
       "      <td>0</td>\n",
       "      <td>1</td>\n",
       "      <td>TN</td>\n",
       "      <td>Nashville</td>\n",
       "      <td>18</td>\n",
       "      <td>AGENT00636</td>\n",
       "      <td>VNDR00472</td>\n",
       "    </tr>\n",
       "  </tbody>\n",
       "</table>\n",
       "<p>5 rows × 38 columns</p>\n",
       "</div>"
      ],
      "text/plain": [
       "         TXN_DATE_TIME TRANSACTION_ID CUSTOMER_ID POLICY_NUMBER POLICY_EFF_DT  \\\n",
       "0  2020-06-01 00:00:00    TXN00000001   A00003822   PLC00008468    2015-06-23   \n",
       "1  2020-06-01 00:00:00    TXN00000002   A00008149   PLC00009594    2018-04-21   \n",
       "2  2020-06-01 00:00:00    TXN00000003   A00003172   PLC00007969    2019-10-03   \n",
       "3  2020-06-01 00:00:00    TXN00000004   A00007572   PLC00009292    2016-11-29   \n",
       "4  2020-06-01 00:00:00    TXN00000005   A00008173   PLC00000204    2011-12-26   \n",
       "\n",
       "      LOSS_DT   REPORT_DT INSURANCE_TYPE  PREMIUM_AMOUNT  CLAIM_AMOUNT  ...  \\\n",
       "0  2020-05-16  2020-05-21         Health          157.13          9000  ...   \n",
       "1  2020-05-13  2020-05-18       Property          141.71         26000  ...   \n",
       "2  2020-05-21  2020-05-26       Property          157.24         13000  ...   \n",
       "3  2020-05-14  2020-05-19         Health          172.87         16000  ...   \n",
       "4  2020-05-17  2020-05-22         Travel           88.53          3000  ...   \n",
       "\n",
       "  CLAIM_STATUS INCIDENT_SEVERITY AUTHORITY_CONTACTED ANY_INJURY  \\\n",
       "0            A        Major Loss              Police          0   \n",
       "1            A        Total Loss           Ambulance          1   \n",
       "2            A        Total Loss              Police          0   \n",
       "3            A        Minor Loss           Ambulance          0   \n",
       "4            A        Major Loss              Police          0   \n",
       "\n",
       "  POLICE_REPORT_AVAILABLE  INCIDENT_STATE   INCIDENT_CITY  \\\n",
       "0                       1              GA        Savannah   \n",
       "1                       0              AL      Montgomery   \n",
       "2                       1              CO  Grand Junction   \n",
       "3                       0              GA        Savannah   \n",
       "4                       1              TN       Nashville   \n",
       "\n",
       "  INCIDENT_HOUR_OF_THE_DAY    AGENT_ID  VENDOR_ID  \n",
       "0                        4  AGENT00413  VNDR00556  \n",
       "1                        0  AGENT00769  VNDR00592  \n",
       "2                       19  AGENT00883  VNDR00031  \n",
       "3                       12  AGENT00278  VNDR00075  \n",
       "4                       18  AGENT00636  VNDR00472  \n",
       "\n",
       "[5 rows x 38 columns]"
      ]
     },
     "execution_count": 29,
     "metadata": {},
     "output_type": "execute_result"
    }
   ],
   "source": [
    "# quick view of insurance data\n",
    "\n",
    "insurance_df.head()"
   ]
  },
  {
   "cell_type": "code",
   "execution_count": 30,
   "id": "19464fb1",
   "metadata": {},
   "outputs": [
    {
     "data": {
      "text/plain": [
       "(10000, 38)"
      ]
     },
     "execution_count": 30,
     "metadata": {},
     "output_type": "execute_result"
    }
   ],
   "source": [
    "#Shape of dataframe\n",
    "\n",
    "insurance_df.shape"
   ]
  },
  {
   "cell_type": "code",
   "execution_count": 31,
   "id": "cc7ecaba",
   "metadata": {},
   "outputs": [
    {
     "name": "stdout",
     "output_type": "stream",
     "text": [
      "<class 'pandas.core.frame.DataFrame'>\n",
      "RangeIndex: 10000 entries, 0 to 9999\n",
      "Data columns (total 38 columns):\n",
      " #   Column                    Non-Null Count  Dtype  \n",
      "---  ------                    --------------  -----  \n",
      " 0   TXN_DATE_TIME             10000 non-null  object \n",
      " 1   TRANSACTION_ID            10000 non-null  object \n",
      " 2   CUSTOMER_ID               10000 non-null  object \n",
      " 3   POLICY_NUMBER             10000 non-null  object \n",
      " 4   POLICY_EFF_DT             10000 non-null  object \n",
      " 5   LOSS_DT                   10000 non-null  object \n",
      " 6   REPORT_DT                 10000 non-null  object \n",
      " 7   INSURANCE_TYPE            10000 non-null  object \n",
      " 8   PREMIUM_AMOUNT            10000 non-null  float64\n",
      " 9   CLAIM_AMOUNT              10000 non-null  int64  \n",
      " 10  CUSTOMER_NAME             10000 non-null  object \n",
      " 11  ADDRESS_LINE1             10000 non-null  object \n",
      " 12  ADDRESS_LINE2             1495 non-null   object \n",
      " 13  CITY                      9946 non-null   object \n",
      " 14  STATE                     10000 non-null  object \n",
      " 15  POSTAL_CODE               10000 non-null  int64  \n",
      " 16  SSN                       10000 non-null  object \n",
      " 17  MARITAL_STATUS            10000 non-null  object \n",
      " 18  AGE                       10000 non-null  int64  \n",
      " 19  TENURE                    10000 non-null  int64  \n",
      " 20  EMPLOYMENT_STATUS         10000 non-null  object \n",
      " 21  NO_OF_FAMILY_MEMBERS      10000 non-null  int64  \n",
      " 22  RISK_SEGMENTATION         10000 non-null  object \n",
      " 23  HOUSE_TYPE                10000 non-null  object \n",
      " 24  SOCIAL_CLASS              10000 non-null  object \n",
      " 25  ROUTING_NUMBER            10000 non-null  int64  \n",
      " 26  ACCT_NUMBER               10000 non-null  object \n",
      " 27  CUSTOMER_EDUCATION_LEVEL  9471 non-null   object \n",
      " 28  CLAIM_STATUS              10000 non-null  object \n",
      " 29  INCIDENT_SEVERITY         10000 non-null  object \n",
      " 30  AUTHORITY_CONTACTED       10000 non-null  object \n",
      " 31  ANY_INJURY                10000 non-null  int64  \n",
      " 32  POLICE_REPORT_AVAILABLE   10000 non-null  int64  \n",
      " 33  INCIDENT_STATE            10000 non-null  object \n",
      " 34  INCIDENT_CITY             9954 non-null   object \n",
      " 35  INCIDENT_HOUR_OF_THE_DAY  10000 non-null  int64  \n",
      " 36  AGENT_ID                  10000 non-null  object \n",
      " 37  VENDOR_ID                 6755 non-null   object \n",
      "dtypes: float64(1), int64(9), object(28)\n",
      "memory usage: 2.9+ MB\n"
     ]
    }
   ],
   "source": [
    "# information of insurance dataframe\n",
    "insurance_df.info()"
   ]
  },
  {
   "cell_type": "markdown",
   "id": "61ce2cd7",
   "metadata": {},
   "source": [
    "###### Load Vendor data"
   ]
  },
  {
   "cell_type": "code",
   "execution_count": 32,
   "id": "b88b8f9c",
   "metadata": {},
   "outputs": [],
   "source": [
    "vendor_df = pd.read_csv(\"vendor_data.csv\")"
   ]
  },
  {
   "cell_type": "code",
   "execution_count": 33,
   "id": "b9e52f9c",
   "metadata": {},
   "outputs": [
    {
     "data": {
      "text/html": [
       "<div>\n",
       "<style scoped>\n",
       "    .dataframe tbody tr th:only-of-type {\n",
       "        vertical-align: middle;\n",
       "    }\n",
       "\n",
       "    .dataframe tbody tr th {\n",
       "        vertical-align: top;\n",
       "    }\n",
       "\n",
       "    .dataframe thead th {\n",
       "        text-align: right;\n",
       "    }\n",
       "</style>\n",
       "<table border=\"1\" class=\"dataframe\">\n",
       "  <thead>\n",
       "    <tr style=\"text-align: right;\">\n",
       "      <th></th>\n",
       "      <th>VENDOR_ID</th>\n",
       "      <th>VENDOR_NAME</th>\n",
       "      <th>ADDRESS_LINE1</th>\n",
       "      <th>ADDRESS_LINE2</th>\n",
       "      <th>CITY</th>\n",
       "      <th>STATE</th>\n",
       "      <th>POSTAL_CODE</th>\n",
       "    </tr>\n",
       "  </thead>\n",
       "  <tbody>\n",
       "    <tr>\n",
       "      <th>0</th>\n",
       "      <td>VNDR00001</td>\n",
       "      <td>King, Proctor and Jones</td>\n",
       "      <td>2027 North Shannon Drive</td>\n",
       "      <td>#5</td>\n",
       "      <td>Fayetteville</td>\n",
       "      <td>AR</td>\n",
       "      <td>72703</td>\n",
       "    </tr>\n",
       "    <tr>\n",
       "      <th>1</th>\n",
       "      <td>VNDR00002</td>\n",
       "      <td>Garcia Ltd</td>\n",
       "      <td>5701 East Shirley Lane</td>\n",
       "      <td>NaN</td>\n",
       "      <td>Montgomery</td>\n",
       "      <td>AL</td>\n",
       "      <td>36117</td>\n",
       "    </tr>\n",
       "    <tr>\n",
       "      <th>2</th>\n",
       "      <td>VNDR00003</td>\n",
       "      <td>Cherry LLC</td>\n",
       "      <td>1217 Cottondale Road</td>\n",
       "      <td>NaN</td>\n",
       "      <td>Montgomery</td>\n",
       "      <td>AL</td>\n",
       "      <td>36109</td>\n",
       "    </tr>\n",
       "    <tr>\n",
       "      <th>3</th>\n",
       "      <td>VNDR00004</td>\n",
       "      <td>Mays-Benson</td>\n",
       "      <td>227 West Montgomery Cross Road</td>\n",
       "      <td>#736</td>\n",
       "      <td>Savannah</td>\n",
       "      <td>GA</td>\n",
       "      <td>31406</td>\n",
       "    </tr>\n",
       "    <tr>\n",
       "      <th>4</th>\n",
       "      <td>VNDR00005</td>\n",
       "      <td>Wilson PLC</td>\n",
       "      <td>23 North Hill Street</td>\n",
       "      <td>NaN</td>\n",
       "      <td>Nashville</td>\n",
       "      <td>TN</td>\n",
       "      <td>37210</td>\n",
       "    </tr>\n",
       "  </tbody>\n",
       "</table>\n",
       "</div>"
      ],
      "text/plain": [
       "   VENDOR_ID              VENDOR_NAME                   ADDRESS_LINE1  \\\n",
       "0  VNDR00001  King, Proctor and Jones        2027 North Shannon Drive   \n",
       "1  VNDR00002               Garcia Ltd          5701 East Shirley Lane   \n",
       "2  VNDR00003               Cherry LLC            1217 Cottondale Road   \n",
       "3  VNDR00004              Mays-Benson  227 West Montgomery Cross Road   \n",
       "4  VNDR00005               Wilson PLC            23 North Hill Street   \n",
       "\n",
       "  ADDRESS_LINE2          CITY STATE  POSTAL_CODE  \n",
       "0            #5  Fayetteville    AR        72703  \n",
       "1           NaN    Montgomery    AL        36117  \n",
       "2           NaN    Montgomery    AL        36109  \n",
       "3          #736      Savannah    GA        31406  \n",
       "4           NaN     Nashville    TN        37210  "
      ]
     },
     "execution_count": 33,
     "metadata": {},
     "output_type": "execute_result"
    }
   ],
   "source": [
    "vendor_df.head()"
   ]
  },
  {
   "cell_type": "code",
   "execution_count": 34,
   "id": "07641da7",
   "metadata": {},
   "outputs": [
    {
     "data": {
      "text/plain": [
       "(600, 7)"
      ]
     },
     "execution_count": 34,
     "metadata": {},
     "output_type": "execute_result"
    }
   ],
   "source": [
    "#shape of vendor dataframe\n",
    "\n",
    "vendor_df.shape"
   ]
  },
  {
   "cell_type": "code",
   "execution_count": 35,
   "id": "32277bfe",
   "metadata": {},
   "outputs": [
    {
     "name": "stdout",
     "output_type": "stream",
     "text": [
      "<class 'pandas.core.frame.DataFrame'>\n",
      "RangeIndex: 600 entries, 0 to 599\n",
      "Data columns (total 7 columns):\n",
      " #   Column         Non-Null Count  Dtype \n",
      "---  ------         --------------  ----- \n",
      " 0   VENDOR_ID      600 non-null    object\n",
      " 1   VENDOR_NAME    600 non-null    object\n",
      " 2   ADDRESS_LINE1  600 non-null    object\n",
      " 3   ADDRESS_LINE2  97 non-null     object\n",
      " 4   CITY           594 non-null    object\n",
      " 5   STATE          600 non-null    object\n",
      " 6   POSTAL_CODE    600 non-null    int64 \n",
      "dtypes: int64(1), object(6)\n",
      "memory usage: 32.9+ KB\n"
     ]
    }
   ],
   "source": [
    "# information of vendor dataframe\n",
    "\n",
    "vendor_df.info()"
   ]
  },
  {
   "cell_type": "markdown",
   "id": "e7604d53",
   "metadata": {},
   "source": [
    "# TASK 1"
   ]
  },
  {
   "cell_type": "markdown",
   "id": "dd3f587b",
   "metadata": {},
   "source": [
    "### Merge the 3 dataset and create 1 view of data."
   ]
  },
  {
   "cell_type": "code",
   "execution_count": 36,
   "id": "8e39ee4b",
   "metadata": {},
   "outputs": [],
   "source": [
    "# merge insurance_data.csv and employee_data.csv on agent_id\n",
    "\n",
    "df_1 = pd.merge(insurance_df,emp_df,on=\"AGENT_ID\",how =\"left\")"
   ]
  },
  {
   "cell_type": "code",
   "execution_count": 37,
   "id": "7b3830c2",
   "metadata": {},
   "outputs": [],
   "source": [
    "# merge df_1 and vendor_data.csv on VENDOR_ID\n",
    "\n",
    "df = pd.merge(df_1,vendor_df,on =\"VENDOR_ID\" ,how='left')"
   ]
  },
  {
   "cell_type": "code",
   "execution_count": 38,
   "id": "1fc076d0",
   "metadata": {},
   "outputs": [
    {
     "data": {
      "text/html": [
       "<div>\n",
       "<style scoped>\n",
       "    .dataframe tbody tr th:only-of-type {\n",
       "        vertical-align: middle;\n",
       "    }\n",
       "\n",
       "    .dataframe tbody tr th {\n",
       "        vertical-align: top;\n",
       "    }\n",
       "\n",
       "    .dataframe thead th {\n",
       "        text-align: right;\n",
       "    }\n",
       "</style>\n",
       "<table border=\"1\" class=\"dataframe\">\n",
       "  <thead>\n",
       "    <tr style=\"text-align: right;\">\n",
       "      <th></th>\n",
       "      <th>TXN_DATE_TIME</th>\n",
       "      <th>TRANSACTION_ID</th>\n",
       "      <th>CUSTOMER_ID</th>\n",
       "      <th>POLICY_NUMBER</th>\n",
       "      <th>POLICY_EFF_DT</th>\n",
       "      <th>LOSS_DT</th>\n",
       "      <th>REPORT_DT</th>\n",
       "      <th>INSURANCE_TYPE</th>\n",
       "      <th>PREMIUM_AMOUNT</th>\n",
       "      <th>CLAIM_AMOUNT</th>\n",
       "      <th>...</th>\n",
       "      <th>STATE_y</th>\n",
       "      <th>POSTAL_CODE_y</th>\n",
       "      <th>EMP_ROUTING_NUMBER</th>\n",
       "      <th>EMP_ACCT_NUMBER</th>\n",
       "      <th>VENDOR_NAME</th>\n",
       "      <th>ADDRESS_LINE1</th>\n",
       "      <th>ADDRESS_LINE2</th>\n",
       "      <th>CITY</th>\n",
       "      <th>STATE</th>\n",
       "      <th>POSTAL_CODE</th>\n",
       "    </tr>\n",
       "  </thead>\n",
       "  <tbody>\n",
       "    <tr>\n",
       "      <th>0</th>\n",
       "      <td>2020-06-01 00:00:00</td>\n",
       "      <td>TXN00000001</td>\n",
       "      <td>A00003822</td>\n",
       "      <td>PLC00008468</td>\n",
       "      <td>2015-06-23</td>\n",
       "      <td>2020-05-16</td>\n",
       "      <td>2020-05-21</td>\n",
       "      <td>Health</td>\n",
       "      <td>157.13</td>\n",
       "      <td>9000</td>\n",
       "      <td>...</td>\n",
       "      <td>TN</td>\n",
       "      <td>37217</td>\n",
       "      <td>35441155</td>\n",
       "      <td>LRZO53254369804934</td>\n",
       "      <td>Ramsey Inc</td>\n",
       "      <td>3114 West 20th Court</td>\n",
       "      <td>NaN</td>\n",
       "      <td>Panama City</td>\n",
       "      <td>FL</td>\n",
       "      <td>32405.0</td>\n",
       "    </tr>\n",
       "    <tr>\n",
       "      <th>1</th>\n",
       "      <td>2020-06-01 00:00:00</td>\n",
       "      <td>TXN00000002</td>\n",
       "      <td>A00008149</td>\n",
       "      <td>PLC00009594</td>\n",
       "      <td>2018-04-21</td>\n",
       "      <td>2020-05-13</td>\n",
       "      <td>2020-05-18</td>\n",
       "      <td>Property</td>\n",
       "      <td>141.71</td>\n",
       "      <td>26000</td>\n",
       "      <td>...</td>\n",
       "      <td>AZ</td>\n",
       "      <td>85301</td>\n",
       "      <td>44055451</td>\n",
       "      <td>XBYG14382904542874</td>\n",
       "      <td>Morales, Campbell and Washington</td>\n",
       "      <td>42 West Louise Street</td>\n",
       "      <td>B</td>\n",
       "      <td>Fayetteville</td>\n",
       "      <td>AR</td>\n",
       "      <td>72701.0</td>\n",
       "    </tr>\n",
       "    <tr>\n",
       "      <th>2</th>\n",
       "      <td>2020-06-01 00:00:00</td>\n",
       "      <td>TXN00000003</td>\n",
       "      <td>A00003172</td>\n",
       "      <td>PLC00007969</td>\n",
       "      <td>2019-10-03</td>\n",
       "      <td>2020-05-21</td>\n",
       "      <td>2020-05-26</td>\n",
       "      <td>Property</td>\n",
       "      <td>157.24</td>\n",
       "      <td>13000</td>\n",
       "      <td>...</td>\n",
       "      <td>AL</td>\n",
       "      <td>36105</td>\n",
       "      <td>55770246</td>\n",
       "      <td>WRXH14597428306333</td>\n",
       "      <td>Johnson Ltd</td>\n",
       "      <td>2619 North Quality Lane</td>\n",
       "      <td>#315</td>\n",
       "      <td>Fayetteville</td>\n",
       "      <td>AR</td>\n",
       "      <td>72703.0</td>\n",
       "    </tr>\n",
       "    <tr>\n",
       "      <th>3</th>\n",
       "      <td>2020-06-01 00:00:00</td>\n",
       "      <td>TXN00000004</td>\n",
       "      <td>A00007572</td>\n",
       "      <td>PLC00009292</td>\n",
       "      <td>2016-11-29</td>\n",
       "      <td>2020-05-14</td>\n",
       "      <td>2020-05-19</td>\n",
       "      <td>Health</td>\n",
       "      <td>172.87</td>\n",
       "      <td>16000</td>\n",
       "      <td>...</td>\n",
       "      <td>OK</td>\n",
       "      <td>73071</td>\n",
       "      <td>87652976</td>\n",
       "      <td>YEPN16077902472499</td>\n",
       "      <td>Blackwell-Foster</td>\n",
       "      <td>3609 Meadow Drive</td>\n",
       "      <td>NaN</td>\n",
       "      <td>Nashville</td>\n",
       "      <td>TN</td>\n",
       "      <td>37215.0</td>\n",
       "    </tr>\n",
       "    <tr>\n",
       "      <th>4</th>\n",
       "      <td>2020-06-01 00:00:00</td>\n",
       "      <td>TXN00000005</td>\n",
       "      <td>A00008173</td>\n",
       "      <td>PLC00000204</td>\n",
       "      <td>2011-12-26</td>\n",
       "      <td>2020-05-17</td>\n",
       "      <td>2020-05-22</td>\n",
       "      <td>Travel</td>\n",
       "      <td>88.53</td>\n",
       "      <td>3000</td>\n",
       "      <td>...</td>\n",
       "      <td>MD</td>\n",
       "      <td>21061</td>\n",
       "      <td>76119019</td>\n",
       "      <td>HZBK86544578578547</td>\n",
       "      <td>Evans-Scott</td>\n",
       "      <td>4001 19th Place Northeast</td>\n",
       "      <td>NaN</td>\n",
       "      <td>Washington</td>\n",
       "      <td>DC</td>\n",
       "      <td>20018.0</td>\n",
       "    </tr>\n",
       "  </tbody>\n",
       "</table>\n",
       "<p>5 rows × 53 columns</p>\n",
       "</div>"
      ],
      "text/plain": [
       "         TXN_DATE_TIME TRANSACTION_ID CUSTOMER_ID POLICY_NUMBER POLICY_EFF_DT  \\\n",
       "0  2020-06-01 00:00:00    TXN00000001   A00003822   PLC00008468    2015-06-23   \n",
       "1  2020-06-01 00:00:00    TXN00000002   A00008149   PLC00009594    2018-04-21   \n",
       "2  2020-06-01 00:00:00    TXN00000003   A00003172   PLC00007969    2019-10-03   \n",
       "3  2020-06-01 00:00:00    TXN00000004   A00007572   PLC00009292    2016-11-29   \n",
       "4  2020-06-01 00:00:00    TXN00000005   A00008173   PLC00000204    2011-12-26   \n",
       "\n",
       "      LOSS_DT   REPORT_DT INSURANCE_TYPE  PREMIUM_AMOUNT  CLAIM_AMOUNT  ...  \\\n",
       "0  2020-05-16  2020-05-21         Health          157.13          9000  ...   \n",
       "1  2020-05-13  2020-05-18       Property          141.71         26000  ...   \n",
       "2  2020-05-21  2020-05-26       Property          157.24         13000  ...   \n",
       "3  2020-05-14  2020-05-19         Health          172.87         16000  ...   \n",
       "4  2020-05-17  2020-05-22         Travel           88.53          3000  ...   \n",
       "\n",
       "  STATE_y POSTAL_CODE_y EMP_ROUTING_NUMBER     EMP_ACCT_NUMBER  \\\n",
       "0      TN         37217           35441155  LRZO53254369804934   \n",
       "1      AZ         85301           44055451  XBYG14382904542874   \n",
       "2      AL         36105           55770246  WRXH14597428306333   \n",
       "3      OK         73071           87652976  YEPN16077902472499   \n",
       "4      MD         21061           76119019  HZBK86544578578547   \n",
       "\n",
       "                        VENDOR_NAME              ADDRESS_LINE1 ADDRESS_LINE2  \\\n",
       "0                        Ramsey Inc       3114 West 20th Court           NaN   \n",
       "1  Morales, Campbell and Washington      42 West Louise Street             B   \n",
       "2                       Johnson Ltd    2619 North Quality Lane          #315   \n",
       "3                  Blackwell-Foster          3609 Meadow Drive           NaN   \n",
       "4                       Evans-Scott  4001 19th Place Northeast           NaN   \n",
       "\n",
       "           CITY  STATE  POSTAL_CODE  \n",
       "0   Panama City     FL      32405.0  \n",
       "1  Fayetteville     AR      72701.0  \n",
       "2  Fayetteville     AR      72703.0  \n",
       "3     Nashville     TN      37215.0  \n",
       "4    Washington     DC      20018.0  \n",
       "\n",
       "[5 rows x 53 columns]"
      ]
     },
     "execution_count": 38,
     "metadata": {},
     "output_type": "execute_result"
    }
   ],
   "source": [
    "df.head()"
   ]
  },
  {
   "cell_type": "code",
   "execution_count": 39,
   "id": "6daa2b2c",
   "metadata": {},
   "outputs": [
    {
     "name": "stdout",
     "output_type": "stream",
     "text": [
      "<class 'pandas.core.frame.DataFrame'>\n",
      "Int64Index: 10000 entries, 0 to 9999\n",
      "Data columns (total 53 columns):\n",
      " #   Column                    Non-Null Count  Dtype  \n",
      "---  ------                    --------------  -----  \n",
      " 0   TXN_DATE_TIME             10000 non-null  object \n",
      " 1   TRANSACTION_ID            10000 non-null  object \n",
      " 2   CUSTOMER_ID               10000 non-null  object \n",
      " 3   POLICY_NUMBER             10000 non-null  object \n",
      " 4   POLICY_EFF_DT             10000 non-null  object \n",
      " 5   LOSS_DT                   10000 non-null  object \n",
      " 6   REPORT_DT                 10000 non-null  object \n",
      " 7   INSURANCE_TYPE            10000 non-null  object \n",
      " 8   PREMIUM_AMOUNT            10000 non-null  float64\n",
      " 9   CLAIM_AMOUNT              10000 non-null  int64  \n",
      " 10  CUSTOMER_NAME             10000 non-null  object \n",
      " 11  ADDRESS_LINE1_x           10000 non-null  object \n",
      " 12  ADDRESS_LINE2_x           1495 non-null   object \n",
      " 13  CITY_x                    9946 non-null   object \n",
      " 14  STATE_x                   10000 non-null  object \n",
      " 15  POSTAL_CODE_x             10000 non-null  int64  \n",
      " 16  SSN                       10000 non-null  object \n",
      " 17  MARITAL_STATUS            10000 non-null  object \n",
      " 18  AGE                       10000 non-null  int64  \n",
      " 19  TENURE                    10000 non-null  int64  \n",
      " 20  EMPLOYMENT_STATUS         10000 non-null  object \n",
      " 21  NO_OF_FAMILY_MEMBERS      10000 non-null  int64  \n",
      " 22  RISK_SEGMENTATION         10000 non-null  object \n",
      " 23  HOUSE_TYPE                10000 non-null  object \n",
      " 24  SOCIAL_CLASS              10000 non-null  object \n",
      " 25  ROUTING_NUMBER            10000 non-null  int64  \n",
      " 26  ACCT_NUMBER               10000 non-null  object \n",
      " 27  CUSTOMER_EDUCATION_LEVEL  9471 non-null   object \n",
      " 28  CLAIM_STATUS              10000 non-null  object \n",
      " 29  INCIDENT_SEVERITY         10000 non-null  object \n",
      " 30  AUTHORITY_CONTACTED       10000 non-null  object \n",
      " 31  ANY_INJURY                10000 non-null  int64  \n",
      " 32  POLICE_REPORT_AVAILABLE   10000 non-null  int64  \n",
      " 33  INCIDENT_STATE            10000 non-null  object \n",
      " 34  INCIDENT_CITY             9954 non-null   object \n",
      " 35  INCIDENT_HOUR_OF_THE_DAY  10000 non-null  int64  \n",
      " 36  AGENT_ID                  10000 non-null  object \n",
      " 37  VENDOR_ID                 6755 non-null   object \n",
      " 38  AGENT_NAME                10000 non-null  object \n",
      " 39  DATE_OF_JOINING           10000 non-null  object \n",
      " 40  ADDRESS_LINE1_y           10000 non-null  object \n",
      " 41  ADDRESS_LINE2_y           1451 non-null   object \n",
      " 42  CITY_y                    9946 non-null   object \n",
      " 43  STATE_y                   10000 non-null  object \n",
      " 44  POSTAL_CODE_y             10000 non-null  int64  \n",
      " 45  EMP_ROUTING_NUMBER        10000 non-null  int64  \n",
      " 46  EMP_ACCT_NUMBER           10000 non-null  object \n",
      " 47  VENDOR_NAME               6755 non-null   object \n",
      " 48  ADDRESS_LINE1             6755 non-null   object \n",
      " 49  ADDRESS_LINE2             1145 non-null   object \n",
      " 50  CITY                      6713 non-null   object \n",
      " 51  STATE                     6755 non-null   object \n",
      " 52  POSTAL_CODE               6755 non-null   float64\n",
      "dtypes: float64(2), int64(11), object(40)\n",
      "memory usage: 4.1+ MB\n"
     ]
    }
   ],
   "source": [
    "df.info()"
   ]
  },
  {
   "cell_type": "markdown",
   "id": "9d1cab7c",
   "metadata": {},
   "source": [
    "# TASK 2"
   ]
  },
  {
   "cell_type": "markdown",
   "id": "9de85f6c",
   "metadata": {},
   "source": [
    "#### find the Top 3 Insurance Type?"
   ]
  },
  {
   "cell_type": "code",
   "execution_count": 40,
   "id": "fedac8de",
   "metadata": {},
   "outputs": [
    {
     "data": {
      "text/plain": [
       "Property    1692\n",
       "Mobile      1692\n",
       "Health      1690\n",
       "Name: INSURANCE_TYPE, dtype: int64"
      ]
     },
     "execution_count": 40,
     "metadata": {},
     "output_type": "execute_result"
    }
   ],
   "source": [
    "df['INSURANCE_TYPE'].value_counts()[:3]"
   ]
  },
  {
   "cell_type": "markdown",
   "id": "df21a03f",
   "metadata": {},
   "source": [
    "###### Property,Mobile and Health are the top three types of insurance where we get the most insurance claims."
   ]
  },
  {
   "cell_type": "markdown",
   "id": "ef5582ec",
   "metadata": {},
   "source": [
    "# TASK 3"
   ]
  },
  {
   "cell_type": "markdown",
   "id": "96450f82",
   "metadata": {},
   "source": [
    "###### find Top 5 States where we are getting most insurance claims for customer belonging to HIGH(H) risk segment?"
   ]
  },
  {
   "cell_type": "code",
   "execution_count": 157,
   "id": "879ada42",
   "metadata": {},
   "outputs": [
    {
     "data": {
      "text/plain": [
       "CA    112\n",
       "AR     85\n",
       "CO     78\n",
       "Name: STATE, dtype: int64"
      ]
     },
     "execution_count": 157,
     "metadata": {},
     "output_type": "execute_result"
    }
   ],
   "source": [
    "df[df['RISK_SEGMENTATION']=='H'].STATE.value_counts()[:3]"
   ]
  },
  {
   "cell_type": "markdown",
   "id": "b0035330",
   "metadata": {},
   "source": []
  },
  {
   "cell_type": "markdown",
   "id": "7b9f4a27",
   "metadata": {},
   "source": [
    "# TASK 4"
   ]
  },
  {
   "cell_type": "markdown",
   "id": "7cc980fd",
   "metadata": {},
   "source": [
    "##### create a new variable “COLOCATION” which will have following values IF Customer State == Incident State == Agent Address State THEN 1 ELSE 0 Find the mean of this new column"
   ]
  },
  {
   "cell_type": "code",
   "execution_count": 42,
   "id": "de74089a",
   "metadata": {},
   "outputs": [],
   "source": [
    "df['COLOCATION'] = np.where((df['STATE_x']== df['INCIDENT_STATE']) & (df['INCIDENT_STATE']== df['STATE_y']),1,0)"
   ]
  },
  {
   "cell_type": "code",
   "execution_count": 43,
   "id": "2149bfa7",
   "metadata": {},
   "outputs": [
    {
     "data": {
      "text/plain": [
       "0       0\n",
       "1       0\n",
       "2       0\n",
       "3       0\n",
       "4       0\n",
       "       ..\n",
       "9995    0\n",
       "9996    0\n",
       "9997    0\n",
       "9998    0\n",
       "9999    0\n",
       "Name: COLOCATION, Length: 10000, dtype: int32"
      ]
     },
     "execution_count": 43,
     "metadata": {},
     "output_type": "execute_result"
    }
   ],
   "source": [
    "df['COLOCATION']"
   ]
  },
  {
   "cell_type": "markdown",
   "id": "740f663a",
   "metadata": {},
   "source": [
    "# TASK 5"
   ]
  },
  {
   "cell_type": "code",
   "execution_count": 55,
   "id": "5fe20a03",
   "metadata": {},
   "outputs": [
    {
     "data": {
      "text/html": [
       "<div>\n",
       "<style scoped>\n",
       "    .dataframe tbody tr th:only-of-type {\n",
       "        vertical-align: middle;\n",
       "    }\n",
       "\n",
       "    .dataframe tbody tr th {\n",
       "        vertical-align: top;\n",
       "    }\n",
       "\n",
       "    .dataframe thead th {\n",
       "        text-align: right;\n",
       "    }\n",
       "</style>\n",
       "<table border=\"1\" class=\"dataframe\">\n",
       "  <thead>\n",
       "    <tr style=\"text-align: right;\">\n",
       "      <th></th>\n",
       "      <th>AUTHORITY_CONTACTED</th>\n",
       "      <th>POLICE_REPORT_AVAILABLE</th>\n",
       "    </tr>\n",
       "  </thead>\n",
       "  <tbody>\n",
       "    <tr>\n",
       "      <th>0</th>\n",
       "      <td>Police</td>\n",
       "      <td>1</td>\n",
       "    </tr>\n",
       "    <tr>\n",
       "      <th>1</th>\n",
       "      <td>Ambulance</td>\n",
       "      <td>0</td>\n",
       "    </tr>\n",
       "    <tr>\n",
       "      <th>2</th>\n",
       "      <td>Police</td>\n",
       "      <td>1</td>\n",
       "    </tr>\n",
       "    <tr>\n",
       "      <th>3</th>\n",
       "      <td>Ambulance</td>\n",
       "      <td>0</td>\n",
       "    </tr>\n",
       "    <tr>\n",
       "      <th>4</th>\n",
       "      <td>Police</td>\n",
       "      <td>1</td>\n",
       "    </tr>\n",
       "    <tr>\n",
       "      <th>...</th>\n",
       "      <td>...</td>\n",
       "      <td>...</td>\n",
       "    </tr>\n",
       "    <tr>\n",
       "      <th>9995</th>\n",
       "      <td>Police</td>\n",
       "      <td>1</td>\n",
       "    </tr>\n",
       "    <tr>\n",
       "      <th>9996</th>\n",
       "      <td>Police</td>\n",
       "      <td>0</td>\n",
       "    </tr>\n",
       "    <tr>\n",
       "      <th>9997</th>\n",
       "      <td>Police</td>\n",
       "      <td>1</td>\n",
       "    </tr>\n",
       "    <tr>\n",
       "      <th>9998</th>\n",
       "      <td>Police</td>\n",
       "      <td>1</td>\n",
       "    </tr>\n",
       "    <tr>\n",
       "      <th>9999</th>\n",
       "      <td>Ambulance</td>\n",
       "      <td>0</td>\n",
       "    </tr>\n",
       "  </tbody>\n",
       "</table>\n",
       "<p>10000 rows × 2 columns</p>\n",
       "</div>"
      ],
      "text/plain": [
       "     AUTHORITY_CONTACTED  POLICE_REPORT_AVAILABLE\n",
       "0                 Police                        1\n",
       "1              Ambulance                        0\n",
       "2                 Police                        1\n",
       "3              Ambulance                        0\n",
       "4                 Police                        1\n",
       "...                  ...                      ...\n",
       "9995              Police                        1\n",
       "9996              Police                        0\n",
       "9997              Police                        1\n",
       "9998              Police                        1\n",
       "9999           Ambulance                        0\n",
       "\n",
       "[10000 rows x 2 columns]"
      ]
     },
     "execution_count": 55,
     "metadata": {},
     "output_type": "execute_result"
    }
   ],
   "source": [
    "df.loc[:,['AUTHORITY_CONTACTED','POLICE_REPORT_AVAILABLE']]"
   ]
  },
  {
   "cell_type": "markdown",
   "id": "f9c6695d",
   "metadata": {},
   "source": [
    "##### Data entry error was detected in the data and you are required to correct it. If for anyclaim transaction “AUTHORITY_CONTACTED” is NOT “Police” and POLICE_AVAILABLE == 1Then Update “AUTHORITY_CONTACTED” to Police."
   ]
  },
  {
   "cell_type": "code",
   "execution_count": 48,
   "id": "a640c363",
   "metadata": {},
   "outputs": [],
   "source": [
    "df.loc[(df['POLICE_REPORT_AVAILABLE']==1)&(df['AUTHORITY_CONTACTED']!='Police'),\"AUTHORITY_CONTACTED\"]=\"Police\""
   ]
  },
  {
   "cell_type": "code",
   "execution_count": 54,
   "id": "4ce6d9f6",
   "metadata": {
    "scrolled": true
   },
   "outputs": [
    {
     "data": {
      "text/html": [
       "<div>\n",
       "<style scoped>\n",
       "    .dataframe tbody tr th:only-of-type {\n",
       "        vertical-align: middle;\n",
       "    }\n",
       "\n",
       "    .dataframe tbody tr th {\n",
       "        vertical-align: top;\n",
       "    }\n",
       "\n",
       "    .dataframe thead th {\n",
       "        text-align: right;\n",
       "    }\n",
       "</style>\n",
       "<table border=\"1\" class=\"dataframe\">\n",
       "  <thead>\n",
       "    <tr style=\"text-align: right;\">\n",
       "      <th></th>\n",
       "      <th>TXN_DATE_TIME</th>\n",
       "      <th>TRANSACTION_ID</th>\n",
       "      <th>CUSTOMER_ID</th>\n",
       "      <th>POLICY_NUMBER</th>\n",
       "      <th>POLICY_EFF_DT</th>\n",
       "      <th>LOSS_DT</th>\n",
       "      <th>REPORT_DT</th>\n",
       "      <th>INSURANCE_TYPE</th>\n",
       "      <th>PREMIUM_AMOUNT</th>\n",
       "      <th>CLAIM_AMOUNT</th>\n",
       "      <th>...</th>\n",
       "      <th>POSTAL_CODE_y</th>\n",
       "      <th>EMP_ROUTING_NUMBER</th>\n",
       "      <th>EMP_ACCT_NUMBER</th>\n",
       "      <th>VENDOR_NAME</th>\n",
       "      <th>ADDRESS_LINE1</th>\n",
       "      <th>ADDRESS_LINE2</th>\n",
       "      <th>CITY</th>\n",
       "      <th>STATE</th>\n",
       "      <th>POSTAL_CODE</th>\n",
       "      <th>COLOCATION</th>\n",
       "    </tr>\n",
       "  </thead>\n",
       "  <tbody>\n",
       "    <tr>\n",
       "      <th>0</th>\n",
       "      <td>2020-06-01 00:00:00</td>\n",
       "      <td>TXN00000001</td>\n",
       "      <td>A00003822</td>\n",
       "      <td>PLC00008468</td>\n",
       "      <td>2015-06-23</td>\n",
       "      <td>2020-05-16</td>\n",
       "      <td>2020-05-21</td>\n",
       "      <td>Health</td>\n",
       "      <td>157.13</td>\n",
       "      <td>9000</td>\n",
       "      <td>...</td>\n",
       "      <td>37217</td>\n",
       "      <td>35441155</td>\n",
       "      <td>LRZO53254369804934</td>\n",
       "      <td>Ramsey Inc</td>\n",
       "      <td>3114 West 20th Court</td>\n",
       "      <td>NaN</td>\n",
       "      <td>Panama City</td>\n",
       "      <td>FL</td>\n",
       "      <td>32405.0</td>\n",
       "      <td>0</td>\n",
       "    </tr>\n",
       "    <tr>\n",
       "      <th>1</th>\n",
       "      <td>2020-06-01 00:00:00</td>\n",
       "      <td>TXN00000002</td>\n",
       "      <td>A00008149</td>\n",
       "      <td>PLC00009594</td>\n",
       "      <td>2018-04-21</td>\n",
       "      <td>2020-05-13</td>\n",
       "      <td>2020-05-18</td>\n",
       "      <td>Property</td>\n",
       "      <td>141.71</td>\n",
       "      <td>26000</td>\n",
       "      <td>...</td>\n",
       "      <td>85301</td>\n",
       "      <td>44055451</td>\n",
       "      <td>XBYG14382904542874</td>\n",
       "      <td>Morales, Campbell and Washington</td>\n",
       "      <td>42 West Louise Street</td>\n",
       "      <td>B</td>\n",
       "      <td>Fayetteville</td>\n",
       "      <td>AR</td>\n",
       "      <td>72701.0</td>\n",
       "      <td>0</td>\n",
       "    </tr>\n",
       "    <tr>\n",
       "      <th>2</th>\n",
       "      <td>2020-06-01 00:00:00</td>\n",
       "      <td>TXN00000003</td>\n",
       "      <td>A00003172</td>\n",
       "      <td>PLC00007969</td>\n",
       "      <td>2019-10-03</td>\n",
       "      <td>2020-05-21</td>\n",
       "      <td>2020-05-26</td>\n",
       "      <td>Property</td>\n",
       "      <td>157.24</td>\n",
       "      <td>13000</td>\n",
       "      <td>...</td>\n",
       "      <td>36105</td>\n",
       "      <td>55770246</td>\n",
       "      <td>WRXH14597428306333</td>\n",
       "      <td>Johnson Ltd</td>\n",
       "      <td>2619 North Quality Lane</td>\n",
       "      <td>#315</td>\n",
       "      <td>Fayetteville</td>\n",
       "      <td>AR</td>\n",
       "      <td>72703.0</td>\n",
       "      <td>0</td>\n",
       "    </tr>\n",
       "    <tr>\n",
       "      <th>3</th>\n",
       "      <td>2020-06-01 00:00:00</td>\n",
       "      <td>TXN00000004</td>\n",
       "      <td>A00007572</td>\n",
       "      <td>PLC00009292</td>\n",
       "      <td>2016-11-29</td>\n",
       "      <td>2020-05-14</td>\n",
       "      <td>2020-05-19</td>\n",
       "      <td>Health</td>\n",
       "      <td>172.87</td>\n",
       "      <td>16000</td>\n",
       "      <td>...</td>\n",
       "      <td>73071</td>\n",
       "      <td>87652976</td>\n",
       "      <td>YEPN16077902472499</td>\n",
       "      <td>Blackwell-Foster</td>\n",
       "      <td>3609 Meadow Drive</td>\n",
       "      <td>NaN</td>\n",
       "      <td>Nashville</td>\n",
       "      <td>TN</td>\n",
       "      <td>37215.0</td>\n",
       "      <td>0</td>\n",
       "    </tr>\n",
       "    <tr>\n",
       "      <th>4</th>\n",
       "      <td>2020-06-01 00:00:00</td>\n",
       "      <td>TXN00000005</td>\n",
       "      <td>A00008173</td>\n",
       "      <td>PLC00000204</td>\n",
       "      <td>2011-12-26</td>\n",
       "      <td>2020-05-17</td>\n",
       "      <td>2020-05-22</td>\n",
       "      <td>Travel</td>\n",
       "      <td>88.53</td>\n",
       "      <td>3000</td>\n",
       "      <td>...</td>\n",
       "      <td>21061</td>\n",
       "      <td>76119019</td>\n",
       "      <td>HZBK86544578578547</td>\n",
       "      <td>Evans-Scott</td>\n",
       "      <td>4001 19th Place Northeast</td>\n",
       "      <td>NaN</td>\n",
       "      <td>Washington</td>\n",
       "      <td>DC</td>\n",
       "      <td>20018.0</td>\n",
       "      <td>0</td>\n",
       "    </tr>\n",
       "    <tr>\n",
       "      <th>...</th>\n",
       "      <td>...</td>\n",
       "      <td>...</td>\n",
       "      <td>...</td>\n",
       "      <td>...</td>\n",
       "      <td>...</td>\n",
       "      <td>...</td>\n",
       "      <td>...</td>\n",
       "      <td>...</td>\n",
       "      <td>...</td>\n",
       "      <td>...</td>\n",
       "      <td>...</td>\n",
       "      <td>...</td>\n",
       "      <td>...</td>\n",
       "      <td>...</td>\n",
       "      <td>...</td>\n",
       "      <td>...</td>\n",
       "      <td>...</td>\n",
       "      <td>...</td>\n",
       "      <td>...</td>\n",
       "      <td>...</td>\n",
       "      <td>...</td>\n",
       "    </tr>\n",
       "    <tr>\n",
       "      <th>9995</th>\n",
       "      <td>2021-06-30 00:00:00</td>\n",
       "      <td>TXN00009996</td>\n",
       "      <td>A00006029</td>\n",
       "      <td>PLC00007245</td>\n",
       "      <td>2014-04-11</td>\n",
       "      <td>2021-06-25</td>\n",
       "      <td>2021-06-26</td>\n",
       "      <td>Motor</td>\n",
       "      <td>105.75</td>\n",
       "      <td>1000</td>\n",
       "      <td>...</td>\n",
       "      <td>72703</td>\n",
       "      <td>35413882</td>\n",
       "      <td>LFOJ76068590051807</td>\n",
       "      <td>NaN</td>\n",
       "      <td>NaN</td>\n",
       "      <td>NaN</td>\n",
       "      <td>NaN</td>\n",
       "      <td>NaN</td>\n",
       "      <td>NaN</td>\n",
       "      <td>0</td>\n",
       "    </tr>\n",
       "    <tr>\n",
       "      <th>9996</th>\n",
       "      <td>2021-06-30 00:00:00</td>\n",
       "      <td>TXN00009997</td>\n",
       "      <td>A00003555</td>\n",
       "      <td>PLC00002590</td>\n",
       "      <td>2015-08-25</td>\n",
       "      <td>2021-06-12</td>\n",
       "      <td>2021-06-17</td>\n",
       "      <td>Life</td>\n",
       "      <td>64.59</td>\n",
       "      <td>67000</td>\n",
       "      <td>...</td>\n",
       "      <td>31405</td>\n",
       "      <td>91206790</td>\n",
       "      <td>AHEF60771774635030</td>\n",
       "      <td>Newton, Hodges and Henry</td>\n",
       "      <td>32512 Christine Drive</td>\n",
       "      <td>NaN</td>\n",
       "      <td>Union City</td>\n",
       "      <td>CA</td>\n",
       "      <td>94587.0</td>\n",
       "      <td>0</td>\n",
       "    </tr>\n",
       "    <tr>\n",
       "      <th>9997</th>\n",
       "      <td>2021-06-30 00:00:00</td>\n",
       "      <td>TXN00009998</td>\n",
       "      <td>A00004230</td>\n",
       "      <td>PLC00006613</td>\n",
       "      <td>2018-10-11</td>\n",
       "      <td>2021-06-18</td>\n",
       "      <td>2021-06-23</td>\n",
       "      <td>Health</td>\n",
       "      <td>183.50</td>\n",
       "      <td>8000</td>\n",
       "      <td>...</td>\n",
       "      <td>40272</td>\n",
       "      <td>115241097</td>\n",
       "      <td>WREH18805592939657</td>\n",
       "      <td>Reese-Mckinney</td>\n",
       "      <td>20 Garfield Street</td>\n",
       "      <td>NaN</td>\n",
       "      <td>Needham</td>\n",
       "      <td>MA</td>\n",
       "      <td>2492.0</td>\n",
       "      <td>0</td>\n",
       "    </tr>\n",
       "    <tr>\n",
       "      <th>9998</th>\n",
       "      <td>2021-06-30 00:00:00</td>\n",
       "      <td>TXN00009999</td>\n",
       "      <td>A00006694</td>\n",
       "      <td>PLC00001781</td>\n",
       "      <td>2016-01-29</td>\n",
       "      <td>2021-06-16</td>\n",
       "      <td>2021-06-21</td>\n",
       "      <td>Motor</td>\n",
       "      <td>113.46</td>\n",
       "      <td>2000</td>\n",
       "      <td>...</td>\n",
       "      <td>72703</td>\n",
       "      <td>13995380</td>\n",
       "      <td>AAZI21883736448048</td>\n",
       "      <td>Harmon, Manning and Bradley</td>\n",
       "      <td>1823 Dinger Road</td>\n",
       "      <td>NaN</td>\n",
       "      <td>Annapolis</td>\n",
       "      <td>MD</td>\n",
       "      <td>21402.0</td>\n",
       "      <td>0</td>\n",
       "    </tr>\n",
       "    <tr>\n",
       "      <th>9999</th>\n",
       "      <td>2021-06-30 00:00:00</td>\n",
       "      <td>TXN00010000</td>\n",
       "      <td>A00000390</td>\n",
       "      <td>PLC00005197</td>\n",
       "      <td>2014-09-17</td>\n",
       "      <td>2021-06-21</td>\n",
       "      <td>2021-06-24</td>\n",
       "      <td>Mobile</td>\n",
       "      <td>8.22</td>\n",
       "      <td>300</td>\n",
       "      <td>...</td>\n",
       "      <td>73003</td>\n",
       "      <td>39790996</td>\n",
       "      <td>RPES05613584687957</td>\n",
       "      <td>Foster-Sanchez</td>\n",
       "      <td>4255 Tanager Common</td>\n",
       "      <td>NaN</td>\n",
       "      <td>Fremont</td>\n",
       "      <td>CA</td>\n",
       "      <td>94555.0</td>\n",
       "      <td>0</td>\n",
       "    </tr>\n",
       "  </tbody>\n",
       "</table>\n",
       "<p>10000 rows × 54 columns</p>\n",
       "</div>"
      ],
      "text/plain": [
       "            TXN_DATE_TIME TRANSACTION_ID CUSTOMER_ID POLICY_NUMBER  \\\n",
       "0     2020-06-01 00:00:00    TXN00000001   A00003822   PLC00008468   \n",
       "1     2020-06-01 00:00:00    TXN00000002   A00008149   PLC00009594   \n",
       "2     2020-06-01 00:00:00    TXN00000003   A00003172   PLC00007969   \n",
       "3     2020-06-01 00:00:00    TXN00000004   A00007572   PLC00009292   \n",
       "4     2020-06-01 00:00:00    TXN00000005   A00008173   PLC00000204   \n",
       "...                   ...            ...         ...           ...   \n",
       "9995  2021-06-30 00:00:00    TXN00009996   A00006029   PLC00007245   \n",
       "9996  2021-06-30 00:00:00    TXN00009997   A00003555   PLC00002590   \n",
       "9997  2021-06-30 00:00:00    TXN00009998   A00004230   PLC00006613   \n",
       "9998  2021-06-30 00:00:00    TXN00009999   A00006694   PLC00001781   \n",
       "9999  2021-06-30 00:00:00    TXN00010000   A00000390   PLC00005197   \n",
       "\n",
       "     POLICY_EFF_DT     LOSS_DT   REPORT_DT INSURANCE_TYPE  PREMIUM_AMOUNT  \\\n",
       "0       2015-06-23  2020-05-16  2020-05-21         Health          157.13   \n",
       "1       2018-04-21  2020-05-13  2020-05-18       Property          141.71   \n",
       "2       2019-10-03  2020-05-21  2020-05-26       Property          157.24   \n",
       "3       2016-11-29  2020-05-14  2020-05-19         Health          172.87   \n",
       "4       2011-12-26  2020-05-17  2020-05-22         Travel           88.53   \n",
       "...            ...         ...         ...            ...             ...   \n",
       "9995    2014-04-11  2021-06-25  2021-06-26          Motor          105.75   \n",
       "9996    2015-08-25  2021-06-12  2021-06-17           Life           64.59   \n",
       "9997    2018-10-11  2021-06-18  2021-06-23         Health          183.50   \n",
       "9998    2016-01-29  2021-06-16  2021-06-21          Motor          113.46   \n",
       "9999    2014-09-17  2021-06-21  2021-06-24         Mobile            8.22   \n",
       "\n",
       "      CLAIM_AMOUNT  ... POSTAL_CODE_y EMP_ROUTING_NUMBER     EMP_ACCT_NUMBER  \\\n",
       "0             9000  ...         37217           35441155  LRZO53254369804934   \n",
       "1            26000  ...         85301           44055451  XBYG14382904542874   \n",
       "2            13000  ...         36105           55770246  WRXH14597428306333   \n",
       "3            16000  ...         73071           87652976  YEPN16077902472499   \n",
       "4             3000  ...         21061           76119019  HZBK86544578578547   \n",
       "...            ...  ...           ...                ...                 ...   \n",
       "9995          1000  ...         72703           35413882  LFOJ76068590051807   \n",
       "9996         67000  ...         31405           91206790  AHEF60771774635030   \n",
       "9997          8000  ...         40272          115241097  WREH18805592939657   \n",
       "9998          2000  ...         72703           13995380  AAZI21883736448048   \n",
       "9999           300  ...         73003           39790996  RPES05613584687957   \n",
       "\n",
       "                           VENDOR_NAME              ADDRESS_LINE1  \\\n",
       "0                           Ramsey Inc       3114 West 20th Court   \n",
       "1     Morales, Campbell and Washington      42 West Louise Street   \n",
       "2                          Johnson Ltd    2619 North Quality Lane   \n",
       "3                     Blackwell-Foster          3609 Meadow Drive   \n",
       "4                          Evans-Scott  4001 19th Place Northeast   \n",
       "...                                ...                        ...   \n",
       "9995                               NaN                        NaN   \n",
       "9996          Newton, Hodges and Henry      32512 Christine Drive   \n",
       "9997                    Reese-Mckinney         20 Garfield Street   \n",
       "9998       Harmon, Manning and Bradley           1823 Dinger Road   \n",
       "9999                    Foster-Sanchez        4255 Tanager Common   \n",
       "\n",
       "      ADDRESS_LINE2          CITY STATE  POSTAL_CODE  COLOCATION  \n",
       "0               NaN   Panama City    FL      32405.0           0  \n",
       "1                 B  Fayetteville    AR      72701.0           0  \n",
       "2              #315  Fayetteville    AR      72703.0           0  \n",
       "3               NaN     Nashville    TN      37215.0           0  \n",
       "4               NaN    Washington    DC      20018.0           0  \n",
       "...             ...           ...   ...          ...         ...  \n",
       "9995            NaN           NaN   NaN          NaN           0  \n",
       "9996            NaN    Union City    CA      94587.0           0  \n",
       "9997            NaN       Needham    MA       2492.0           0  \n",
       "9998            NaN     Annapolis    MD      21402.0           0  \n",
       "9999            NaN       Fremont    CA      94555.0           0  \n",
       "\n",
       "[10000 rows x 54 columns]"
      ]
     },
     "execution_count": 54,
     "metadata": {},
     "output_type": "execute_result"
    }
   ],
   "source": [
    "df"
   ]
  },
  {
   "cell_type": "markdown",
   "id": "3afcc8c7",
   "metadata": {},
   "source": [
    "# TASK 6"
   ]
  },
  {
   "cell_type": "markdown",
   "id": "eef90ca9",
   "metadata": {},
   "source": [
    "###### calculate claim_deviation CLAIM_DEVIATION = AVG_CLAIM_AMOUNT_FOR_LAST_30DAYS (same insurance type)/ CURRENT_CLAIM_AMOUNT"
   ]
  },
  {
   "cell_type": "code",
   "execution_count": 56,
   "id": "50ea4fb9",
   "metadata": {},
   "outputs": [
    {
     "data": {
      "text/plain": [
       "'2021-06-30 00:00:00'"
      ]
     },
     "execution_count": 56,
     "metadata": {},
     "output_type": "execute_result"
    }
   ],
   "source": [
    "# current_date\n",
    "\n",
    "df['TXN_DATE_TIME'].max()"
   ]
  },
  {
   "cell_type": "code",
   "execution_count": 57,
   "id": "2b645a0a",
   "metadata": {},
   "outputs": [],
   "source": [
    "curr_date = pd.to_datetime(df['TXN_DATE_TIME'].max())"
   ]
  },
  {
   "cell_type": "code",
   "execution_count": 59,
   "id": "f67877dc",
   "metadata": {},
   "outputs": [],
   "source": [
    "# convert 'TXN_DATE_TIME' to datetime\n",
    "\n",
    "df['TXN_DATE_TIME'] = pd.to_datetime(df['TXN_DATE_TIME'])"
   ]
  },
  {
   "cell_type": "code",
   "execution_count": 60,
   "id": "eb8f4066",
   "metadata": {},
   "outputs": [],
   "source": [
    "# Average claim amount for last 30 days\n",
    "# last 30 days data\n",
    "\n",
    "L_data  = df.loc[(df['TXN_DATE_TIME'] > '2021-05-30') & (df['TXN_DATE_TIME'] < '2021-06-30')]"
   ]
  },
  {
   "cell_type": "code",
   "execution_count": 66,
   "id": "f584523a",
   "metadata": {},
   "outputs": [],
   "source": [
    "# avg claim \n",
    "\n",
    "avg_claim = L_data.groupby('INSURANCE_TYPE').mean()['CLAIM_AMOUNT'].to_dict()"
   ]
  },
  {
   "cell_type": "code",
   "execution_count": 67,
   "id": "8957fa1e",
   "metadata": {},
   "outputs": [
    {
     "data": {
      "text/plain": [
       "{'Health': 10904.411764705883,\n",
       " 'Life': 52242.857142857145,\n",
       " 'Mobile': 378.35820895522386,\n",
       " 'Motor': 5573.770491803279,\n",
       " 'Property': 24627.906976744187,\n",
       " 'Travel': 2800.0}"
      ]
     },
     "execution_count": 67,
     "metadata": {},
     "output_type": "execute_result"
    }
   ],
   "source": [
    "avg_claim"
   ]
  },
  {
   "cell_type": "markdown",
   "id": "5d307188",
   "metadata": {},
   "source": [
    "###### If CLAIM_DEVIATION < 0.5 THEN CLAIM_DEVIATION = 1 ELSE 0 If there is less than 30 days of transaction history THEN -1"
   ]
  },
  {
   "cell_type": "code",
   "execution_count": 71,
   "id": "877fdb9a",
   "metadata": {},
   "outputs": [],
   "source": [
    "def claim_deviation(row):\n",
    "    if (curr_date - row['TXN_DATE_TIME'])<pd.Timedelta(days=30):\n",
    "        return -1\n",
    "    ClAIM_DEVIATION = avg_claim[row['INSURANCE_TYPE']] / row['CLAIM_AMOUNT']\n",
    "    if ClAIM_DEVIATION < 0.5:\n",
    "        return 1\n",
    "    else:\n",
    "        return 0"
   ]
  },
  {
   "cell_type": "code",
   "execution_count": 75,
   "id": "c69da093",
   "metadata": {},
   "outputs": [
    {
     "data": {
      "text/html": [
       "<div>\n",
       "<style scoped>\n",
       "    .dataframe tbody tr th:only-of-type {\n",
       "        vertical-align: middle;\n",
       "    }\n",
       "\n",
       "    .dataframe tbody tr th {\n",
       "        vertical-align: top;\n",
       "    }\n",
       "\n",
       "    .dataframe thead th {\n",
       "        text-align: right;\n",
       "    }\n",
       "</style>\n",
       "<table border=\"1\" class=\"dataframe\">\n",
       "  <thead>\n",
       "    <tr style=\"text-align: right;\">\n",
       "      <th></th>\n",
       "      <th>TXN_DATE_TIME</th>\n",
       "      <th>TRANSACTION_ID</th>\n",
       "      <th>CUSTOMER_ID</th>\n",
       "      <th>POLICY_NUMBER</th>\n",
       "      <th>POLICY_EFF_DT</th>\n",
       "      <th>LOSS_DT</th>\n",
       "      <th>REPORT_DT</th>\n",
       "      <th>INSURANCE_TYPE</th>\n",
       "      <th>PREMIUM_AMOUNT</th>\n",
       "      <th>CLAIM_AMOUNT</th>\n",
       "      <th>...</th>\n",
       "      <th>EMP_ROUTING_NUMBER</th>\n",
       "      <th>EMP_ACCT_NUMBER</th>\n",
       "      <th>VENDOR_NAME</th>\n",
       "      <th>ADDRESS_LINE1</th>\n",
       "      <th>ADDRESS_LINE2</th>\n",
       "      <th>CITY</th>\n",
       "      <th>STATE</th>\n",
       "      <th>POSTAL_CODE</th>\n",
       "      <th>COLOCATION</th>\n",
       "      <th>CLAIM_DEVIATION</th>\n",
       "    </tr>\n",
       "  </thead>\n",
       "  <tbody>\n",
       "    <tr>\n",
       "      <th>0</th>\n",
       "      <td>2020-06-01</td>\n",
       "      <td>TXN00000001</td>\n",
       "      <td>A00003822</td>\n",
       "      <td>PLC00008468</td>\n",
       "      <td>2015-06-23</td>\n",
       "      <td>2020-05-16</td>\n",
       "      <td>2020-05-21</td>\n",
       "      <td>Health</td>\n",
       "      <td>157.13</td>\n",
       "      <td>9000</td>\n",
       "      <td>...</td>\n",
       "      <td>35441155</td>\n",
       "      <td>LRZO53254369804934</td>\n",
       "      <td>Ramsey Inc</td>\n",
       "      <td>3114 West 20th Court</td>\n",
       "      <td>NaN</td>\n",
       "      <td>Panama City</td>\n",
       "      <td>FL</td>\n",
       "      <td>32405.0</td>\n",
       "      <td>0</td>\n",
       "      <td>0</td>\n",
       "    </tr>\n",
       "    <tr>\n",
       "      <th>1</th>\n",
       "      <td>2020-06-01</td>\n",
       "      <td>TXN00000002</td>\n",
       "      <td>A00008149</td>\n",
       "      <td>PLC00009594</td>\n",
       "      <td>2018-04-21</td>\n",
       "      <td>2020-05-13</td>\n",
       "      <td>2020-05-18</td>\n",
       "      <td>Property</td>\n",
       "      <td>141.71</td>\n",
       "      <td>26000</td>\n",
       "      <td>...</td>\n",
       "      <td>44055451</td>\n",
       "      <td>XBYG14382904542874</td>\n",
       "      <td>Morales, Campbell and Washington</td>\n",
       "      <td>42 West Louise Street</td>\n",
       "      <td>B</td>\n",
       "      <td>Fayetteville</td>\n",
       "      <td>AR</td>\n",
       "      <td>72701.0</td>\n",
       "      <td>0</td>\n",
       "      <td>0</td>\n",
       "    </tr>\n",
       "    <tr>\n",
       "      <th>2</th>\n",
       "      <td>2020-06-01</td>\n",
       "      <td>TXN00000003</td>\n",
       "      <td>A00003172</td>\n",
       "      <td>PLC00007969</td>\n",
       "      <td>2019-10-03</td>\n",
       "      <td>2020-05-21</td>\n",
       "      <td>2020-05-26</td>\n",
       "      <td>Property</td>\n",
       "      <td>157.24</td>\n",
       "      <td>13000</td>\n",
       "      <td>...</td>\n",
       "      <td>55770246</td>\n",
       "      <td>WRXH14597428306333</td>\n",
       "      <td>Johnson Ltd</td>\n",
       "      <td>2619 North Quality Lane</td>\n",
       "      <td>#315</td>\n",
       "      <td>Fayetteville</td>\n",
       "      <td>AR</td>\n",
       "      <td>72703.0</td>\n",
       "      <td>0</td>\n",
       "      <td>0</td>\n",
       "    </tr>\n",
       "    <tr>\n",
       "      <th>3</th>\n",
       "      <td>2020-06-01</td>\n",
       "      <td>TXN00000004</td>\n",
       "      <td>A00007572</td>\n",
       "      <td>PLC00009292</td>\n",
       "      <td>2016-11-29</td>\n",
       "      <td>2020-05-14</td>\n",
       "      <td>2020-05-19</td>\n",
       "      <td>Health</td>\n",
       "      <td>172.87</td>\n",
       "      <td>16000</td>\n",
       "      <td>...</td>\n",
       "      <td>87652976</td>\n",
       "      <td>YEPN16077902472499</td>\n",
       "      <td>Blackwell-Foster</td>\n",
       "      <td>3609 Meadow Drive</td>\n",
       "      <td>NaN</td>\n",
       "      <td>Nashville</td>\n",
       "      <td>TN</td>\n",
       "      <td>37215.0</td>\n",
       "      <td>0</td>\n",
       "      <td>0</td>\n",
       "    </tr>\n",
       "    <tr>\n",
       "      <th>4</th>\n",
       "      <td>2020-06-01</td>\n",
       "      <td>TXN00000005</td>\n",
       "      <td>A00008173</td>\n",
       "      <td>PLC00000204</td>\n",
       "      <td>2011-12-26</td>\n",
       "      <td>2020-05-17</td>\n",
       "      <td>2020-05-22</td>\n",
       "      <td>Travel</td>\n",
       "      <td>88.53</td>\n",
       "      <td>3000</td>\n",
       "      <td>...</td>\n",
       "      <td>76119019</td>\n",
       "      <td>HZBK86544578578547</td>\n",
       "      <td>Evans-Scott</td>\n",
       "      <td>4001 19th Place Northeast</td>\n",
       "      <td>NaN</td>\n",
       "      <td>Washington</td>\n",
       "      <td>DC</td>\n",
       "      <td>20018.0</td>\n",
       "      <td>0</td>\n",
       "      <td>0</td>\n",
       "    </tr>\n",
       "    <tr>\n",
       "      <th>...</th>\n",
       "      <td>...</td>\n",
       "      <td>...</td>\n",
       "      <td>...</td>\n",
       "      <td>...</td>\n",
       "      <td>...</td>\n",
       "      <td>...</td>\n",
       "      <td>...</td>\n",
       "      <td>...</td>\n",
       "      <td>...</td>\n",
       "      <td>...</td>\n",
       "      <td>...</td>\n",
       "      <td>...</td>\n",
       "      <td>...</td>\n",
       "      <td>...</td>\n",
       "      <td>...</td>\n",
       "      <td>...</td>\n",
       "      <td>...</td>\n",
       "      <td>...</td>\n",
       "      <td>...</td>\n",
       "      <td>...</td>\n",
       "      <td>...</td>\n",
       "    </tr>\n",
       "    <tr>\n",
       "      <th>9995</th>\n",
       "      <td>2021-06-30</td>\n",
       "      <td>TXN00009996</td>\n",
       "      <td>A00006029</td>\n",
       "      <td>PLC00007245</td>\n",
       "      <td>2014-04-11</td>\n",
       "      <td>2021-06-25</td>\n",
       "      <td>2021-06-26</td>\n",
       "      <td>Motor</td>\n",
       "      <td>105.75</td>\n",
       "      <td>1000</td>\n",
       "      <td>...</td>\n",
       "      <td>35413882</td>\n",
       "      <td>LFOJ76068590051807</td>\n",
       "      <td>NaN</td>\n",
       "      <td>NaN</td>\n",
       "      <td>NaN</td>\n",
       "      <td>NaN</td>\n",
       "      <td>NaN</td>\n",
       "      <td>NaN</td>\n",
       "      <td>0</td>\n",
       "      <td>-1</td>\n",
       "    </tr>\n",
       "    <tr>\n",
       "      <th>9996</th>\n",
       "      <td>2021-06-30</td>\n",
       "      <td>TXN00009997</td>\n",
       "      <td>A00003555</td>\n",
       "      <td>PLC00002590</td>\n",
       "      <td>2015-08-25</td>\n",
       "      <td>2021-06-12</td>\n",
       "      <td>2021-06-17</td>\n",
       "      <td>Life</td>\n",
       "      <td>64.59</td>\n",
       "      <td>67000</td>\n",
       "      <td>...</td>\n",
       "      <td>91206790</td>\n",
       "      <td>AHEF60771774635030</td>\n",
       "      <td>Newton, Hodges and Henry</td>\n",
       "      <td>32512 Christine Drive</td>\n",
       "      <td>NaN</td>\n",
       "      <td>Union City</td>\n",
       "      <td>CA</td>\n",
       "      <td>94587.0</td>\n",
       "      <td>0</td>\n",
       "      <td>-1</td>\n",
       "    </tr>\n",
       "    <tr>\n",
       "      <th>9997</th>\n",
       "      <td>2021-06-30</td>\n",
       "      <td>TXN00009998</td>\n",
       "      <td>A00004230</td>\n",
       "      <td>PLC00006613</td>\n",
       "      <td>2018-10-11</td>\n",
       "      <td>2021-06-18</td>\n",
       "      <td>2021-06-23</td>\n",
       "      <td>Health</td>\n",
       "      <td>183.50</td>\n",
       "      <td>8000</td>\n",
       "      <td>...</td>\n",
       "      <td>115241097</td>\n",
       "      <td>WREH18805592939657</td>\n",
       "      <td>Reese-Mckinney</td>\n",
       "      <td>20 Garfield Street</td>\n",
       "      <td>NaN</td>\n",
       "      <td>Needham</td>\n",
       "      <td>MA</td>\n",
       "      <td>2492.0</td>\n",
       "      <td>0</td>\n",
       "      <td>-1</td>\n",
       "    </tr>\n",
       "    <tr>\n",
       "      <th>9998</th>\n",
       "      <td>2021-06-30</td>\n",
       "      <td>TXN00009999</td>\n",
       "      <td>A00006694</td>\n",
       "      <td>PLC00001781</td>\n",
       "      <td>2016-01-29</td>\n",
       "      <td>2021-06-16</td>\n",
       "      <td>2021-06-21</td>\n",
       "      <td>Motor</td>\n",
       "      <td>113.46</td>\n",
       "      <td>2000</td>\n",
       "      <td>...</td>\n",
       "      <td>13995380</td>\n",
       "      <td>AAZI21883736448048</td>\n",
       "      <td>Harmon, Manning and Bradley</td>\n",
       "      <td>1823 Dinger Road</td>\n",
       "      <td>NaN</td>\n",
       "      <td>Annapolis</td>\n",
       "      <td>MD</td>\n",
       "      <td>21402.0</td>\n",
       "      <td>0</td>\n",
       "      <td>-1</td>\n",
       "    </tr>\n",
       "    <tr>\n",
       "      <th>9999</th>\n",
       "      <td>2021-06-30</td>\n",
       "      <td>TXN00010000</td>\n",
       "      <td>A00000390</td>\n",
       "      <td>PLC00005197</td>\n",
       "      <td>2014-09-17</td>\n",
       "      <td>2021-06-21</td>\n",
       "      <td>2021-06-24</td>\n",
       "      <td>Mobile</td>\n",
       "      <td>8.22</td>\n",
       "      <td>300</td>\n",
       "      <td>...</td>\n",
       "      <td>39790996</td>\n",
       "      <td>RPES05613584687957</td>\n",
       "      <td>Foster-Sanchez</td>\n",
       "      <td>4255 Tanager Common</td>\n",
       "      <td>NaN</td>\n",
       "      <td>Fremont</td>\n",
       "      <td>CA</td>\n",
       "      <td>94555.0</td>\n",
       "      <td>0</td>\n",
       "      <td>-1</td>\n",
       "    </tr>\n",
       "  </tbody>\n",
       "</table>\n",
       "<p>10000 rows × 55 columns</p>\n",
       "</div>"
      ],
      "text/plain": [
       "     TXN_DATE_TIME TRANSACTION_ID CUSTOMER_ID POLICY_NUMBER POLICY_EFF_DT  \\\n",
       "0       2020-06-01    TXN00000001   A00003822   PLC00008468    2015-06-23   \n",
       "1       2020-06-01    TXN00000002   A00008149   PLC00009594    2018-04-21   \n",
       "2       2020-06-01    TXN00000003   A00003172   PLC00007969    2019-10-03   \n",
       "3       2020-06-01    TXN00000004   A00007572   PLC00009292    2016-11-29   \n",
       "4       2020-06-01    TXN00000005   A00008173   PLC00000204    2011-12-26   \n",
       "...            ...            ...         ...           ...           ...   \n",
       "9995    2021-06-30    TXN00009996   A00006029   PLC00007245    2014-04-11   \n",
       "9996    2021-06-30    TXN00009997   A00003555   PLC00002590    2015-08-25   \n",
       "9997    2021-06-30    TXN00009998   A00004230   PLC00006613    2018-10-11   \n",
       "9998    2021-06-30    TXN00009999   A00006694   PLC00001781    2016-01-29   \n",
       "9999    2021-06-30    TXN00010000   A00000390   PLC00005197    2014-09-17   \n",
       "\n",
       "         LOSS_DT   REPORT_DT INSURANCE_TYPE  PREMIUM_AMOUNT  CLAIM_AMOUNT  \\\n",
       "0     2020-05-16  2020-05-21         Health          157.13          9000   \n",
       "1     2020-05-13  2020-05-18       Property          141.71         26000   \n",
       "2     2020-05-21  2020-05-26       Property          157.24         13000   \n",
       "3     2020-05-14  2020-05-19         Health          172.87         16000   \n",
       "4     2020-05-17  2020-05-22         Travel           88.53          3000   \n",
       "...          ...         ...            ...             ...           ...   \n",
       "9995  2021-06-25  2021-06-26          Motor          105.75          1000   \n",
       "9996  2021-06-12  2021-06-17           Life           64.59         67000   \n",
       "9997  2021-06-18  2021-06-23         Health          183.50          8000   \n",
       "9998  2021-06-16  2021-06-21          Motor          113.46          2000   \n",
       "9999  2021-06-21  2021-06-24         Mobile            8.22           300   \n",
       "\n",
       "      ... EMP_ROUTING_NUMBER     EMP_ACCT_NUMBER  \\\n",
       "0     ...           35441155  LRZO53254369804934   \n",
       "1     ...           44055451  XBYG14382904542874   \n",
       "2     ...           55770246  WRXH14597428306333   \n",
       "3     ...           87652976  YEPN16077902472499   \n",
       "4     ...           76119019  HZBK86544578578547   \n",
       "...   ...                ...                 ...   \n",
       "9995  ...           35413882  LFOJ76068590051807   \n",
       "9996  ...           91206790  AHEF60771774635030   \n",
       "9997  ...          115241097  WREH18805592939657   \n",
       "9998  ...           13995380  AAZI21883736448048   \n",
       "9999  ...           39790996  RPES05613584687957   \n",
       "\n",
       "                           VENDOR_NAME              ADDRESS_LINE1  \\\n",
       "0                           Ramsey Inc       3114 West 20th Court   \n",
       "1     Morales, Campbell and Washington      42 West Louise Street   \n",
       "2                          Johnson Ltd    2619 North Quality Lane   \n",
       "3                     Blackwell-Foster          3609 Meadow Drive   \n",
       "4                          Evans-Scott  4001 19th Place Northeast   \n",
       "...                                ...                        ...   \n",
       "9995                               NaN                        NaN   \n",
       "9996          Newton, Hodges and Henry      32512 Christine Drive   \n",
       "9997                    Reese-Mckinney         20 Garfield Street   \n",
       "9998       Harmon, Manning and Bradley           1823 Dinger Road   \n",
       "9999                    Foster-Sanchez        4255 Tanager Common   \n",
       "\n",
       "     ADDRESS_LINE2          CITY STATE POSTAL_CODE  COLOCATION  \\\n",
       "0              NaN   Panama City    FL     32405.0           0   \n",
       "1                B  Fayetteville    AR     72701.0           0   \n",
       "2             #315  Fayetteville    AR     72703.0           0   \n",
       "3              NaN     Nashville    TN     37215.0           0   \n",
       "4              NaN    Washington    DC     20018.0           0   \n",
       "...            ...           ...   ...         ...         ...   \n",
       "9995           NaN           NaN   NaN         NaN           0   \n",
       "9996           NaN    Union City    CA     94587.0           0   \n",
       "9997           NaN       Needham    MA      2492.0           0   \n",
       "9998           NaN     Annapolis    MD     21402.0           0   \n",
       "9999           NaN       Fremont    CA     94555.0           0   \n",
       "\n",
       "      CLAIM_DEVIATION  \n",
       "0                   0  \n",
       "1                   0  \n",
       "2                   0  \n",
       "3                   0  \n",
       "4                   0  \n",
       "...               ...  \n",
       "9995               -1  \n",
       "9996               -1  \n",
       "9997               -1  \n",
       "9998               -1  \n",
       "9999               -1  \n",
       "\n",
       "[10000 rows x 55 columns]"
      ]
     },
     "execution_count": 75,
     "metadata": {},
     "output_type": "execute_result"
    }
   ],
   "source": [
    "df['CLAIM_DEVIATION'] = df.apply(claim_deviation,axis=1)\n",
    "df"
   ]
  },
  {
   "cell_type": "code",
   "execution_count": 77,
   "id": "f1c5af66",
   "metadata": {},
   "outputs": [
    {
     "data": {
      "text/plain": [
       " 0    9216\n",
       "-1     784\n",
       "Name: CLAIM_DEVIATION, dtype: int64"
      ]
     },
     "execution_count": 77,
     "metadata": {},
     "output_type": "execute_result"
    }
   ],
   "source": [
    "df['CLAIM_DEVIATION'].value_counts()"
   ]
  },
  {
   "cell_type": "markdown",
   "id": "2483b4f6",
   "metadata": {},
   "source": [
    "* All the claim deviation values are graiter than 0.5\n",
    "* 784 claims have less than 30 days transaction historu\n"
   ]
  },
  {
   "cell_type": "markdown",
   "id": "71b50d73",
   "metadata": {},
   "source": [
    "# TASK 7"
   ]
  },
  {
   "cell_type": "markdown",
   "id": "2f3dbb57",
   "metadata": {},
   "source": [
    "###### Find All Agents who have worked on more than 2 types of Insurance Claims. Sort them by Total Claim Amount Approved under them in descending order"
   ]
  },
  {
   "cell_type": "code",
   "execution_count": 93,
   "id": "ca7fa59b",
   "metadata": {},
   "outputs": [
    {
     "data": {
      "text/plain": [
       "AGENT_ID\n",
       "AGENT00001    4\n",
       "AGENT00002    2\n",
       "AGENT00003    6\n",
       "AGENT00004    6\n",
       "AGENT00005    4\n",
       "             ..\n",
       "AGENT01196    4\n",
       "AGENT01197    4\n",
       "AGENT01198    4\n",
       "AGENT01199    5\n",
       "AGENT01200    6\n",
       "Name: INSURANCE_TYPE, Length: 1200, dtype: int64"
      ]
     },
     "execution_count": 93,
     "metadata": {},
     "output_type": "execute_result"
    }
   ],
   "source": [
    "# group by agent id\n",
    "\n",
    "agents =df.groupby('AGENT_ID')['INSURANCE_TYPE'].nunique()\n",
    "agents\n"
   ]
  },
  {
   "cell_type": "code",
   "execution_count": 87,
   "id": "854743e0",
   "metadata": {},
   "outputs": [
    {
     "data": {
      "text/plain": [
       "AGENT_ID\n",
       "AGENT00001     True\n",
       "AGENT00002    False\n",
       "AGENT00003     True\n",
       "AGENT00004     True\n",
       "AGENT00005     True\n",
       "              ...  \n",
       "AGENT01196     True\n",
       "AGENT01197     True\n",
       "AGENT01198     True\n",
       "AGENT01199     True\n",
       "AGENT01200     True\n",
       "Name: INSURANCE_TYPE, Length: 1200, dtype: bool"
      ]
     },
     "execution_count": 87,
     "metadata": {},
     "output_type": "execute_result"
    }
   ],
   "source": [
    "top_agents = agents >2 \n",
    "top_agents"
   ]
  },
  {
   "cell_type": "code",
   "execution_count": 94,
   "id": "443cccc1",
   "metadata": {},
   "outputs": [],
   "source": [
    "top_agentd = top_agents[top_agents].index"
   ]
  },
  {
   "cell_type": "code",
   "execution_count": 111,
   "id": "15f559e7",
   "metadata": {},
   "outputs": [],
   "source": [
    "TOP_AGENTS = df.groupby(['AGENT_ID','AGENT_NAME']).sum().loc[top_agentd][['CLAIM_AMOUNT']].sort_values('CLAIM_AMOUNT',ascending=False)"
   ]
  },
  {
   "cell_type": "code",
   "execution_count": 112,
   "id": "994cbcc7",
   "metadata": {
    "scrolled": true
   },
   "outputs": [
    {
     "data": {
      "text/html": [
       "<div>\n",
       "<style scoped>\n",
       "    .dataframe tbody tr th:only-of-type {\n",
       "        vertical-align: middle;\n",
       "    }\n",
       "\n",
       "    .dataframe tbody tr th {\n",
       "        vertical-align: top;\n",
       "    }\n",
       "\n",
       "    .dataframe thead th {\n",
       "        text-align: right;\n",
       "    }\n",
       "</style>\n",
       "<table border=\"1\" class=\"dataframe\">\n",
       "  <thead>\n",
       "    <tr style=\"text-align: right;\">\n",
       "      <th></th>\n",
       "      <th></th>\n",
       "      <th>CLAIM_AMOUNT</th>\n",
       "    </tr>\n",
       "    <tr>\n",
       "      <th>AGENT_ID</th>\n",
       "      <th>AGENT_NAME</th>\n",
       "      <th></th>\n",
       "    </tr>\n",
       "  </thead>\n",
       "  <tbody>\n",
       "    <tr>\n",
       "      <th>AGENT00807</th>\n",
       "      <th>Don Filkins</th>\n",
       "      <td>528800</td>\n",
       "    </tr>\n",
       "    <tr>\n",
       "      <th>AGENT00679</th>\n",
       "      <th>Clara Barnett</th>\n",
       "      <td>489000</td>\n",
       "    </tr>\n",
       "    <tr>\n",
       "      <th>AGENT00771</th>\n",
       "      <th>Roger Burns</th>\n",
       "      <td>422100</td>\n",
       "    </tr>\n",
       "    <tr>\n",
       "      <th>AGENT00125</th>\n",
       "      <th>Salvador Soriano</th>\n",
       "      <td>400400</td>\n",
       "    </tr>\n",
       "    <tr>\n",
       "      <th>AGENT00789</th>\n",
       "      <th>Alison Baron</th>\n",
       "      <td>392900</td>\n",
       "    </tr>\n",
       "    <tr>\n",
       "      <th>...</th>\n",
       "      <th>...</th>\n",
       "      <td>...</td>\n",
       "    </tr>\n",
       "    <tr>\n",
       "      <th>AGENT00910</th>\n",
       "      <th>Vincent Ragan</th>\n",
       "      <td>15500</td>\n",
       "    </tr>\n",
       "    <tr>\n",
       "      <th>AGENT00689</th>\n",
       "      <th>Connie Hunt</th>\n",
       "      <td>13700</td>\n",
       "    </tr>\n",
       "    <tr>\n",
       "      <th>AGENT00732</th>\n",
       "      <th>Sylvia Tran</th>\n",
       "      <td>11300</td>\n",
       "    </tr>\n",
       "    <tr>\n",
       "      <th>AGENT00706</th>\n",
       "      <th>Laura Staggs</th>\n",
       "      <td>10800</td>\n",
       "    </tr>\n",
       "    <tr>\n",
       "      <th>AGENT00604</th>\n",
       "      <th>Thelma Salinas</th>\n",
       "      <td>5500</td>\n",
       "    </tr>\n",
       "  </tbody>\n",
       "</table>\n",
       "<p>1164 rows × 1 columns</p>\n",
       "</div>"
      ],
      "text/plain": [
       "                             CLAIM_AMOUNT\n",
       "AGENT_ID   AGENT_NAME                    \n",
       "AGENT00807 Don Filkins             528800\n",
       "AGENT00679 Clara Barnett           489000\n",
       "AGENT00771 Roger Burns             422100\n",
       "AGENT00125 Salvador Soriano        400400\n",
       "AGENT00789 Alison Baron            392900\n",
       "...                                   ...\n",
       "AGENT00910 Vincent Ragan            15500\n",
       "AGENT00689 Connie Hunt              13700\n",
       "AGENT00732 Sylvia Tran              11300\n",
       "AGENT00706 Laura Staggs             10800\n",
       "AGENT00604 Thelma Salinas            5500\n",
       "\n",
       "[1164 rows x 1 columns]"
      ]
     },
     "execution_count": 112,
     "metadata": {},
     "output_type": "execute_result"
    }
   ],
   "source": [
    "TOP_AGENTS"
   ]
  },
  {
   "cell_type": "markdown",
   "id": "81bb589f",
   "metadata": {},
   "source": [
    "* There are 1164 Agents who have worked on more than 2 types of Insurance Claims.\n",
    "* Don Filkins is the Top most agent with highest claim amount"
   ]
  },
  {
   "cell_type": "markdown",
   "id": "765a862f",
   "metadata": {},
   "source": [
    "# TASK 8"
   ]
  },
  {
   "cell_type": "markdown",
   "id": "c724d088",
   "metadata": {},
   "source": [
    "###### Mobile & Travel Insurance premium are discounted by 10% Health and Property Insurance premium are increased by 7% Life and Motor Insurance premium are marginally increased by 2% What will be overall change in % of the Premium Amount Collected for all these Customer?"
   ]
  },
  {
   "cell_type": "code",
   "execution_count": 140,
   "id": "3fe82cbe",
   "metadata": {},
   "outputs": [
    {
     "data": {
      "text/plain": [
       "{'Health': 252455.73,\n",
       " 'Life': 125621.22,\n",
       " 'Mobile': 15191.42,\n",
       " 'Motor': 165391.98,\n",
       " 'Property': 202285.83,\n",
       " 'Travel': 124139.77}"
      ]
     },
     "execution_count": 140,
     "metadata": {},
     "output_type": "execute_result"
    }
   ],
   "source": [
    "# total premiun amount by insurance types\n",
    "\n",
    "premium = df.groupby('INSURANCE_TYPE')['PREMIUM_AMOUNT'].sum().to_dict()\n",
    "premium"
   ]
  },
  {
   "cell_type": "code",
   "execution_count": 141,
   "id": "854a58ec",
   "metadata": {},
   "outputs": [
    {
     "data": {
      "text/plain": [
       "885085.95"
      ]
     },
     "execution_count": 141,
     "metadata": {},
     "output_type": "execute_result"
    }
   ],
   "source": [
    "#Total premium amount early\n",
    "\n",
    "sum_premium = sum(premium.values())\n",
    "sum_premium"
   ]
  },
  {
   "cell_type": "code",
   "execution_count": 143,
   "id": "ca95854e",
   "metadata": {},
   "outputs": [],
   "source": [
    "# new premium amount\n",
    "\n",
    "pre_new = premium.copy()"
   ]
  },
  {
   "cell_type": "code",
   "execution_count": 144,
   "id": "a88d6a1f",
   "metadata": {},
   "outputs": [],
   "source": [
    "# Mobile & Travel Insurance premium are discounted by 10% \n",
    "\n",
    "pre_new['Mobile']*=0.9\n",
    "pre_new['Travel']*=0.9"
   ]
  },
  {
   "cell_type": "code",
   "execution_count": 145,
   "id": "9c89f1d3",
   "metadata": {},
   "outputs": [],
   "source": [
    "# Health and Property Insurance premium are increased by 7%\n",
    "\n",
    "pre_new['Health']*=1.07\n",
    "pre_new['Property']*=1.07"
   ]
  },
  {
   "cell_type": "code",
   "execution_count": 146,
   "id": "22b75e86",
   "metadata": {},
   "outputs": [],
   "source": [
    "# Life and Motor Insurance premium are marginally increased by 2%\n",
    "\n",
    "pre_new['Motor']*=1.02\n",
    "pre_new['Life']*=1.02"
   ]
  },
  {
   "cell_type": "code",
   "execution_count": 148,
   "id": "de1f4089",
   "metadata": {},
   "outputs": [
    {
     "data": {
      "text/plain": [
       "{'Health': 270127.6311,\n",
       " 'Life': 128133.6444,\n",
       " 'Mobile': 13672.278,\n",
       " 'Motor': 168699.81960000002,\n",
       " 'Property': 216445.8381,\n",
       " 'Travel': 111725.793}"
      ]
     },
     "execution_count": 148,
     "metadata": {},
     "output_type": "execute_result"
    }
   ],
   "source": [
    "# New Premium amount\n",
    "\n",
    "pre_new"
   ]
  },
  {
   "cell_type": "code",
   "execution_count": 150,
   "id": "96bbdcda",
   "metadata": {},
   "outputs": [
    {
     "data": {
      "text/plain": [
       "908805.0042000001"
      ]
     },
     "execution_count": 150,
     "metadata": {},
     "output_type": "execute_result"
    }
   ],
   "source": [
    "# sum of new premium amount\n",
    "\n",
    "new_sum = sum(pre_new.values())\n",
    "new_sum"
   ]
  },
  {
   "cell_type": "code",
   "execution_count": 152,
   "id": "58218326",
   "metadata": {},
   "outputs": [
    {
     "data": {
      "text/plain": [
       "23719.05420000013"
      ]
     },
     "execution_count": 152,
     "metadata": {},
     "output_type": "execute_result"
    }
   ],
   "source": [
    "# Total difference in new premium and early premmium amount\n",
    "\n",
    "dif =new_sum-sum_premium\n",
    "dif"
   ]
  },
  {
   "cell_type": "code",
   "execution_count": 154,
   "id": "dd1cf9ac",
   "metadata": {},
   "outputs": [
    {
     "data": {
      "text/plain": [
       "2.6798588543858517"
      ]
     },
     "execution_count": 154,
     "metadata": {},
     "output_type": "execute_result"
    }
   ],
   "source": [
    "# overall change in % of the Premium Amount\n",
    "\n",
    "overall_change = (dif/sum_premium)*100\n",
    "overall_change"
   ]
  },
  {
   "cell_type": "markdown",
   "id": "fbfa9345",
   "metadata": {},
   "source": [
    "* Overall change in Premium amount collected is 2.68%"
   ]
  },
  {
   "cell_type": "markdown",
   "id": "050967d7",
   "metadata": {},
   "source": [
    "# TASK 9\n",
    "\n",
    " ##### Find the percentage of customers are eligible for discount "
   ]
  },
  {
   "cell_type": "code",
   "execution_count": 159,
   "id": "7e6eba6c",
   "metadata": {},
   "outputs": [
    {
     "data": {
      "text/plain": [
       "0       0\n",
       "1       0\n",
       "2       0\n",
       "3       0\n",
       "4       0\n",
       "       ..\n",
       "9995    0\n",
       "9996    0\n",
       "9997    0\n",
       "9998    0\n",
       "9999    0\n",
       "Name: ELIGIBLE_FOR_DISCOUNT, Length: 10000, dtype: int32"
      ]
     },
     "execution_count": 159,
     "metadata": {},
     "output_type": "execute_result"
    }
   ],
   "source": [
    "# Eligibility condition: IF CUSTOMER_TENURE > 60 AND EMPLOYMENT_STATUS = “N”AND NO_OF_FAMILY_MEMBERS >=4 THEN 1 ELSE 0\n",
    "\n",
    "df['ELIGIBLE_FOR_DISCOUNT'] = np.where((df['TENURE'] > 60) & (df['EMPLOYMENT_STATUS'] ==\"N\") & (df['NO_OF_FAMILY_MEMBERS']>=4),1,0)\n",
    "df['ELIGIBLE_FOR_DISCOUNT']"
   ]
  },
  {
   "cell_type": "code",
   "execution_count": 160,
   "id": "9215c46f",
   "metadata": {},
   "outputs": [
    {
     "data": {
      "text/plain": [
       "0    9701\n",
       "1     299\n",
       "Name: ELIGIBLE_FOR_DISCOUNT, dtype: int64"
      ]
     },
     "execution_count": 160,
     "metadata": {},
     "output_type": "execute_result"
    }
   ],
   "source": [
    "df['ELIGIBLE_FOR_DISCOUNT'].value_counts()"
   ]
  },
  {
   "cell_type": "code",
   "execution_count": 161,
   "id": "dc7b2fe2",
   "metadata": {},
   "outputs": [
    {
     "data": {
      "text/plain": [
       "0.0299"
      ]
     },
     "execution_count": 161,
     "metadata": {},
     "output_type": "execute_result"
    }
   ],
   "source": [
    "df['ELIGIBLE_FOR_DISCOUNT'].mean()"
   ]
  },
  {
   "cell_type": "markdown",
   "id": "e73a80ca",
   "metadata": {},
   "source": [
    "* 2.99 % of customers are eligible for the discount "
   ]
  },
  {
   "cell_type": "markdown",
   "id": "9784a48f",
   "metadata": {},
   "source": [
    "# TASK 10\n",
    "###### check Claim Velocity"
   ]
  },
  {
   "cell_type": "code",
   "execution_count": 162,
   "id": "c84eef55",
   "metadata": {},
   "outputs": [
    {
     "data": {
      "text/plain": [
       "Timestamp('2021-06-30 00:00:00')"
      ]
     },
     "execution_count": 162,
     "metadata": {},
     "output_type": "execute_result"
    }
   ],
   "source": [
    "#current date\n",
    "\n",
    "curr_date"
   ]
  },
  {
   "cell_type": "code",
   "execution_count": 172,
   "id": "76e7c45d",
   "metadata": {},
   "outputs": [],
   "source": [
    "# claims in last 30 days\n",
    "\n",
    "L_data  = df.loc[(df['TXN_DATE_TIME'] > '2021-05-30') & (df['TXN_DATE_TIME'] < '2021-06-30')]\n",
    "L_30 = pd.DataFrame.from_dict(L_data[L_data['CLAIM_STATUS']=='A'].groupby('INSURANCE_TYPE').size().to_dict(),orient='index',columns=['CLAIMS_IN_LAST30DAYS'])"
   ]
  },
  {
   "cell_type": "code",
   "execution_count": 173,
   "id": "7b521be2",
   "metadata": {},
   "outputs": [],
   "source": [
    "# claims in last 3 days\n",
    "\n",
    "L_3days = df.loc[(df['TXN_DATE_TIME'] > curr_date - pd.Timedelta(days=4)) & (df['TXN_DATE_TIME'] < '2021-06-30')]\n",
    "L_3 = pd.DataFrame.from_dict(L_3days[L_3days['CLAIM_STATUS']=='A'].groupby('INSURANCE_TYPE').size().to_dict(),orient='index',columns=['CLAIMS_IN_LAST3DAYS'])"
   ]
  },
  {
   "cell_type": "code",
   "execution_count": 177,
   "id": "8b967db3",
   "metadata": {},
   "outputs": [],
   "source": [
    "# All claims \n",
    "\n",
    "total_claims = L_30.join(L_3)"
   ]
  },
  {
   "cell_type": "code",
   "execution_count": 179,
   "id": "9157a03d",
   "metadata": {},
   "outputs": [],
   "source": [
    "total_claims['CLAIM_VELOCITY'] = total_claims['CLAIMS_IN_LAST30DAYS']/total_claims['CLAIMS_IN_LAST3DAYS']"
   ]
  },
  {
   "cell_type": "code",
   "execution_count": 180,
   "id": "944d9692",
   "metadata": {},
   "outputs": [
    {
     "data": {
      "text/html": [
       "<div>\n",
       "<style scoped>\n",
       "    .dataframe tbody tr th:only-of-type {\n",
       "        vertical-align: middle;\n",
       "    }\n",
       "\n",
       "    .dataframe tbody tr th {\n",
       "        vertical-align: top;\n",
       "    }\n",
       "\n",
       "    .dataframe thead th {\n",
       "        text-align: right;\n",
       "    }\n",
       "</style>\n",
       "<table border=\"1\" class=\"dataframe\">\n",
       "  <thead>\n",
       "    <tr style=\"text-align: right;\">\n",
       "      <th></th>\n",
       "      <th>CLAIMS_IN_LAST30DAYS</th>\n",
       "      <th>CLAIMS_IN_LAST3DAYS</th>\n",
       "      <th>CLAIM_VELOCITY</th>\n",
       "    </tr>\n",
       "  </thead>\n",
       "  <tbody>\n",
       "    <tr>\n",
       "      <th>Health</th>\n",
       "      <td>128</td>\n",
       "      <td>14</td>\n",
       "      <td>9.142857</td>\n",
       "    </tr>\n",
       "    <tr>\n",
       "      <th>Life</th>\n",
       "      <td>128</td>\n",
       "      <td>12</td>\n",
       "      <td>10.666667</td>\n",
       "    </tr>\n",
       "    <tr>\n",
       "      <th>Mobile</th>\n",
       "      <td>127</td>\n",
       "      <td>9</td>\n",
       "      <td>14.111111</td>\n",
       "    </tr>\n",
       "    <tr>\n",
       "      <th>Motor</th>\n",
       "      <td>117</td>\n",
       "      <td>12</td>\n",
       "      <td>9.750000</td>\n",
       "    </tr>\n",
       "    <tr>\n",
       "      <th>Property</th>\n",
       "      <td>125</td>\n",
       "      <td>12</td>\n",
       "      <td>10.416667</td>\n",
       "    </tr>\n",
       "    <tr>\n",
       "      <th>Travel</th>\n",
       "      <td>123</td>\n",
       "      <td>14</td>\n",
       "      <td>8.785714</td>\n",
       "    </tr>\n",
       "  </tbody>\n",
       "</table>\n",
       "</div>"
      ],
      "text/plain": [
       "          CLAIMS_IN_LAST30DAYS  CLAIMS_IN_LAST3DAYS  CLAIM_VELOCITY\n",
       "Health                     128                   14        9.142857\n",
       "Life                       128                   12       10.666667\n",
       "Mobile                     127                    9       14.111111\n",
       "Motor                      117                   12        9.750000\n",
       "Property                   125                   12       10.416667\n",
       "Travel                     123                   14        8.785714"
      ]
     },
     "execution_count": 180,
     "metadata": {},
     "output_type": "execute_result"
    }
   ],
   "source": [
    "total_claims"
   ]
  },
  {
   "cell_type": "markdown",
   "id": "5329d563",
   "metadata": {},
   "source": [
    "# TASK 11\n",
    "###### Find all low performing agents i.e. employees who are in the bottom 5 percentile based on Claims worked by them."
   ]
  },
  {
   "cell_type": "code",
   "execution_count": 183,
   "id": "4e202cb1",
   "metadata": {},
   "outputs": [
    {
     "data": {
      "text/plain": [
       "30395.0"
      ]
     },
     "execution_count": 183,
     "metadata": {},
     "output_type": "execute_result"
    }
   ],
   "source": [
    "# Lowest performing agents\n",
    "\n",
    "Low = df.groupby('AGENT_ID').sum().quantile(0.05)['CLAIM_AMOUNT']\n",
    "Low"
   ]
  },
  {
   "cell_type": "code",
   "execution_count": 186,
   "id": "12394245",
   "metadata": {},
   "outputs": [],
   "source": [
    "# Agent Data\n",
    "\n",
    "agent = df.groupby('AGENT_ID').sum()"
   ]
  },
  {
   "cell_type": "code",
   "execution_count": 189,
   "id": "9c72801a",
   "metadata": {},
   "outputs": [
    {
     "data": {
      "text/html": [
       "<div>\n",
       "<style scoped>\n",
       "    .dataframe tbody tr th:only-of-type {\n",
       "        vertical-align: middle;\n",
       "    }\n",
       "\n",
       "    .dataframe tbody tr th {\n",
       "        vertical-align: top;\n",
       "    }\n",
       "\n",
       "    .dataframe thead th {\n",
       "        text-align: right;\n",
       "    }\n",
       "</style>\n",
       "<table border=\"1\" class=\"dataframe\">\n",
       "  <thead>\n",
       "    <tr style=\"text-align: right;\">\n",
       "      <th></th>\n",
       "      <th>CLAIM_AMOUNT</th>\n",
       "    </tr>\n",
       "    <tr>\n",
       "      <th>AGENT_ID</th>\n",
       "      <th></th>\n",
       "    </tr>\n",
       "  </thead>\n",
       "  <tbody>\n",
       "    <tr>\n",
       "      <th>AGENT00006</th>\n",
       "      <td>22400</td>\n",
       "    </tr>\n",
       "    <tr>\n",
       "      <th>AGENT00014</th>\n",
       "      <td>7400</td>\n",
       "    </tr>\n",
       "    <tr>\n",
       "      <th>AGENT00016</th>\n",
       "      <td>27000</td>\n",
       "    </tr>\n",
       "    <tr>\n",
       "      <th>AGENT00085</th>\n",
       "      <td>25700</td>\n",
       "    </tr>\n",
       "    <tr>\n",
       "      <th>AGENT00088</th>\n",
       "      <td>27700</td>\n",
       "    </tr>\n",
       "    <tr>\n",
       "      <th>AGENT00091</th>\n",
       "      <td>30000</td>\n",
       "    </tr>\n",
       "    <tr>\n",
       "      <th>AGENT00098</th>\n",
       "      <td>28200</td>\n",
       "    </tr>\n",
       "    <tr>\n",
       "      <th>AGENT00134</th>\n",
       "      <td>22000</td>\n",
       "    </tr>\n",
       "    <tr>\n",
       "      <th>AGENT00149</th>\n",
       "      <td>28900</td>\n",
       "    </tr>\n",
       "    <tr>\n",
       "      <th>AGENT00156</th>\n",
       "      <td>13200</td>\n",
       "    </tr>\n",
       "    <tr>\n",
       "      <th>AGENT00172</th>\n",
       "      <td>22200</td>\n",
       "    </tr>\n",
       "    <tr>\n",
       "      <th>AGENT00185</th>\n",
       "      <td>16100</td>\n",
       "    </tr>\n",
       "    <tr>\n",
       "      <th>AGENT00186</th>\n",
       "      <td>27700</td>\n",
       "    </tr>\n",
       "    <tr>\n",
       "      <th>AGENT00188</th>\n",
       "      <td>28400</td>\n",
       "    </tr>\n",
       "    <tr>\n",
       "      <th>AGENT00197</th>\n",
       "      <td>18500</td>\n",
       "    </tr>\n",
       "    <tr>\n",
       "      <th>AGENT00252</th>\n",
       "      <td>20000</td>\n",
       "    </tr>\n",
       "    <tr>\n",
       "      <th>AGENT00263</th>\n",
       "      <td>11500</td>\n",
       "    </tr>\n",
       "    <tr>\n",
       "      <th>AGENT00275</th>\n",
       "      <td>16200</td>\n",
       "    </tr>\n",
       "    <tr>\n",
       "      <th>AGENT00279</th>\n",
       "      <td>28000</td>\n",
       "    </tr>\n",
       "    <tr>\n",
       "      <th>AGENT00300</th>\n",
       "      <td>12600</td>\n",
       "    </tr>\n",
       "    <tr>\n",
       "      <th>AGENT00310</th>\n",
       "      <td>28800</td>\n",
       "    </tr>\n",
       "    <tr>\n",
       "      <th>AGENT00316</th>\n",
       "      <td>22200</td>\n",
       "    </tr>\n",
       "    <tr>\n",
       "      <th>AGENT00351</th>\n",
       "      <td>21700</td>\n",
       "    </tr>\n",
       "    <tr>\n",
       "      <th>AGENT00425</th>\n",
       "      <td>17800</td>\n",
       "    </tr>\n",
       "    <tr>\n",
       "      <th>AGENT00442</th>\n",
       "      <td>30300</td>\n",
       "    </tr>\n",
       "    <tr>\n",
       "      <th>AGENT00536</th>\n",
       "      <td>20000</td>\n",
       "    </tr>\n",
       "    <tr>\n",
       "      <th>AGENT00562</th>\n",
       "      <td>21100</td>\n",
       "    </tr>\n",
       "    <tr>\n",
       "      <th>AGENT00571</th>\n",
       "      <td>24200</td>\n",
       "    </tr>\n",
       "    <tr>\n",
       "      <th>AGENT00585</th>\n",
       "      <td>16600</td>\n",
       "    </tr>\n",
       "    <tr>\n",
       "      <th>AGENT00590</th>\n",
       "      <td>22200</td>\n",
       "    </tr>\n",
       "    <tr>\n",
       "      <th>AGENT00604</th>\n",
       "      <td>5500</td>\n",
       "    </tr>\n",
       "    <tr>\n",
       "      <th>AGENT00621</th>\n",
       "      <td>5300</td>\n",
       "    </tr>\n",
       "    <tr>\n",
       "      <th>AGENT00628</th>\n",
       "      <td>6100</td>\n",
       "    </tr>\n",
       "    <tr>\n",
       "      <th>AGENT00672</th>\n",
       "      <td>21300</td>\n",
       "    </tr>\n",
       "    <tr>\n",
       "      <th>AGENT00689</th>\n",
       "      <td>13700</td>\n",
       "    </tr>\n",
       "    <tr>\n",
       "      <th>AGENT00706</th>\n",
       "      <td>10800</td>\n",
       "    </tr>\n",
       "    <tr>\n",
       "      <th>AGENT00721</th>\n",
       "      <td>9000</td>\n",
       "    </tr>\n",
       "    <tr>\n",
       "      <th>AGENT00732</th>\n",
       "      <td>11300</td>\n",
       "    </tr>\n",
       "    <tr>\n",
       "      <th>AGENT00773</th>\n",
       "      <td>15000</td>\n",
       "    </tr>\n",
       "    <tr>\n",
       "      <th>AGENT00780</th>\n",
       "      <td>11300</td>\n",
       "    </tr>\n",
       "    <tr>\n",
       "      <th>AGENT00790</th>\n",
       "      <td>6000</td>\n",
       "    </tr>\n",
       "    <tr>\n",
       "      <th>AGENT00804</th>\n",
       "      <td>20000</td>\n",
       "    </tr>\n",
       "    <tr>\n",
       "      <th>AGENT00805</th>\n",
       "      <td>22600</td>\n",
       "    </tr>\n",
       "    <tr>\n",
       "      <th>AGENT00830</th>\n",
       "      <td>23500</td>\n",
       "    </tr>\n",
       "    <tr>\n",
       "      <th>AGENT00841</th>\n",
       "      <td>17800</td>\n",
       "    </tr>\n",
       "    <tr>\n",
       "      <th>AGENT00856</th>\n",
       "      <td>24200</td>\n",
       "    </tr>\n",
       "    <tr>\n",
       "      <th>AGENT00894</th>\n",
       "      <td>27600</td>\n",
       "    </tr>\n",
       "    <tr>\n",
       "      <th>AGENT00910</th>\n",
       "      <td>15500</td>\n",
       "    </tr>\n",
       "    <tr>\n",
       "      <th>AGENT00969</th>\n",
       "      <td>28300</td>\n",
       "    </tr>\n",
       "    <tr>\n",
       "      <th>AGENT00985</th>\n",
       "      <td>30000</td>\n",
       "    </tr>\n",
       "    <tr>\n",
       "      <th>AGENT01021</th>\n",
       "      <td>24300</td>\n",
       "    </tr>\n",
       "    <tr>\n",
       "      <th>AGENT01037</th>\n",
       "      <td>5600</td>\n",
       "    </tr>\n",
       "    <tr>\n",
       "      <th>AGENT01052</th>\n",
       "      <td>28000</td>\n",
       "    </tr>\n",
       "    <tr>\n",
       "      <th>AGENT01077</th>\n",
       "      <td>4200</td>\n",
       "    </tr>\n",
       "    <tr>\n",
       "      <th>AGENT01107</th>\n",
       "      <td>24700</td>\n",
       "    </tr>\n",
       "    <tr>\n",
       "      <th>AGENT01128</th>\n",
       "      <td>28000</td>\n",
       "    </tr>\n",
       "    <tr>\n",
       "      <th>AGENT01131</th>\n",
       "      <td>27500</td>\n",
       "    </tr>\n",
       "    <tr>\n",
       "      <th>AGENT01151</th>\n",
       "      <td>28000</td>\n",
       "    </tr>\n",
       "    <tr>\n",
       "      <th>AGENT01154</th>\n",
       "      <td>800</td>\n",
       "    </tr>\n",
       "    <tr>\n",
       "      <th>AGENT01179</th>\n",
       "      <td>27300</td>\n",
       "    </tr>\n",
       "  </tbody>\n",
       "</table>\n",
       "</div>"
      ],
      "text/plain": [
       "            CLAIM_AMOUNT\n",
       "AGENT_ID                \n",
       "AGENT00006         22400\n",
       "AGENT00014          7400\n",
       "AGENT00016         27000\n",
       "AGENT00085         25700\n",
       "AGENT00088         27700\n",
       "AGENT00091         30000\n",
       "AGENT00098         28200\n",
       "AGENT00134         22000\n",
       "AGENT00149         28900\n",
       "AGENT00156         13200\n",
       "AGENT00172         22200\n",
       "AGENT00185         16100\n",
       "AGENT00186         27700\n",
       "AGENT00188         28400\n",
       "AGENT00197         18500\n",
       "AGENT00252         20000\n",
       "AGENT00263         11500\n",
       "AGENT00275         16200\n",
       "AGENT00279         28000\n",
       "AGENT00300         12600\n",
       "AGENT00310         28800\n",
       "AGENT00316         22200\n",
       "AGENT00351         21700\n",
       "AGENT00425         17800\n",
       "AGENT00442         30300\n",
       "AGENT00536         20000\n",
       "AGENT00562         21100\n",
       "AGENT00571         24200\n",
       "AGENT00585         16600\n",
       "AGENT00590         22200\n",
       "AGENT00604          5500\n",
       "AGENT00621          5300\n",
       "AGENT00628          6100\n",
       "AGENT00672         21300\n",
       "AGENT00689         13700\n",
       "AGENT00706         10800\n",
       "AGENT00721          9000\n",
       "AGENT00732         11300\n",
       "AGENT00773         15000\n",
       "AGENT00780         11300\n",
       "AGENT00790          6000\n",
       "AGENT00804         20000\n",
       "AGENT00805         22600\n",
       "AGENT00830         23500\n",
       "AGENT00841         17800\n",
       "AGENT00856         24200\n",
       "AGENT00894         27600\n",
       "AGENT00910         15500\n",
       "AGENT00969         28300\n",
       "AGENT00985         30000\n",
       "AGENT01021         24300\n",
       "AGENT01037          5600\n",
       "AGENT01052         28000\n",
       "AGENT01077          4200\n",
       "AGENT01107         24700\n",
       "AGENT01128         28000\n",
       "AGENT01131         27500\n",
       "AGENT01151         28000\n",
       "AGENT01154           800\n",
       "AGENT01179         27300"
      ]
     },
     "execution_count": 189,
     "metadata": {},
     "output_type": "execute_result"
    }
   ],
   "source": [
    "#Low performing agent data\n",
    "\n",
    "Low_Performing_Agents = agent[agent['CLAIM_AMOUNT'] <= Low][['CLAIM_AMOUNT']]\n",
    "\n",
    "Low_Performing_Agents"
   ]
  },
  {
   "cell_type": "code",
   "execution_count": 191,
   "id": "272e282a",
   "metadata": {},
   "outputs": [
    {
     "data": {
      "text/plain": [
       "CLAIM_AMOUNT    60\n",
       "dtype: int64"
      ]
     },
     "execution_count": 191,
     "metadata": {},
     "output_type": "execute_result"
    }
   ],
   "source": [
    "Low_Performing_Agents.count()"
   ]
  },
  {
   "cell_type": "markdown",
   "id": "c4085b90",
   "metadata": {},
   "source": [
    "* There are 60 agents are in the bottom 5 percentile"
   ]
  },
  {
   "cell_type": "markdown",
   "id": "c0cc4e3c",
   "metadata": {},
   "source": [
    "# TASK 12\n",
    "###### Business wants to find all Suspicious Employees (Agents)."
   ]
  },
  {
   "cell_type": "code",
   "execution_count": 207,
   "id": "30cffaa8",
   "metadata": {},
   "outputs": [],
   "source": [
    "Condition = (df['CLAIM_STATUS']=='A')&(df['RISK_SEGMENTATION']=='H')&(df['INCIDENT_SEVERITY']=='Major Loss')"
   ]
  },
  {
   "cell_type": "code",
   "execution_count": 208,
   "id": "cc9d067d",
   "metadata": {},
   "outputs": [],
   "source": [
    "critieria = df[Condition]"
   ]
  },
  {
   "cell_type": "code",
   "execution_count": 195,
   "id": "45f33bf4",
   "metadata": {},
   "outputs": [],
   "source": [
    "= np.where((df['CLAIM_STATUS']=='A')&(df['RISK_SEGMENTATION']=='H')&(df['INCIDENT_SEVERITY']=='Major Loss'),1,0)"
   ]
  },
  {
   "cell_type": "code",
   "execution_count": 220,
   "id": "34b98305",
   "metadata": {},
   "outputs": [],
   "source": [
    "suspi_df = critieria.groupby(\"AGENT_ID\").sum()\n"
   ]
  },
  {
   "cell_type": "code",
   "execution_count": 223,
   "id": "a9cffe5e",
   "metadata": {},
   "outputs": [
    {
     "name": "stderr",
     "output_type": "stream",
     "text": [
      "C:\\Users\\HP\\AppData\\Local\\Temp/ipykernel_11060/1601519985.py:2: SettingWithCopyWarning: \n",
      "A value is trying to be set on a copy of a slice from a DataFrame.\n",
      "Try using .loc[row_indexer,col_indexer] = value instead\n",
      "\n",
      "See the caveats in the documentation: https://pandas.pydata.org/pandas-docs/stable/user_guide/indexing.html#returning-a-view-versus-a-copy\n",
      "  sus_agents['AGENTS'] = sus_agents.index\n"
     ]
    }
   ],
   "source": [
    "sus_agents = suspi_df[suspi_df['CLAIM_AMOUNT']>=15000]\n",
    "sus_agents['AGENTS'] = sus_agents.index"
   ]
  },
  {
   "cell_type": "code",
   "execution_count": 226,
   "id": "01fc288d",
   "metadata": {},
   "outputs": [
    {
     "data": {
      "text/plain": [
       "149"
      ]
     },
     "execution_count": 226,
     "metadata": {},
     "output_type": "execute_result"
    }
   ],
   "source": [
    "# suspicious agents count\n",
    "\n",
    "suspicious_agents=sus_agents['AGENTS'].count()\n",
    "suspicious_agents"
   ]
  },
  {
   "cell_type": "code",
   "execution_count": 227,
   "id": "9a122640",
   "metadata": {},
   "outputs": [],
   "source": [
    "#total agents count\n",
    "\n",
    "emp_count = emp_df['AGENT_ID'].count()"
   ]
  },
  {
   "cell_type": "code",
   "execution_count": 229,
   "id": "39149dfc",
   "metadata": {},
   "outputs": [
    {
     "data": {
      "text/plain": [
       "0.12416666666666666"
      ]
     },
     "execution_count": 229,
     "metadata": {},
     "output_type": "execute_result"
    }
   ],
   "source": [
    "# percentage of suspicious agents count\n",
    "perc = suspicious_agents/emp_count\n",
    "perc"
   ]
  },
  {
   "cell_type": "markdown",
   "id": "6210a862",
   "metadata": {},
   "source": [
    "* 12.41 percentage of agents are suspicious"
   ]
  },
  {
   "cell_type": "code",
   "execution_count": null,
   "id": "2c0c271b",
   "metadata": {},
   "outputs": [],
   "source": []
  }
 ],
 "metadata": {
  "kernelspec": {
   "display_name": "Python 3 (ipykernel)",
   "language": "python",
   "name": "python3"
  },
  "language_info": {
   "codemirror_mode": {
    "name": "ipython",
    "version": 3
   },
   "file_extension": ".py",
   "mimetype": "text/x-python",
   "name": "python",
   "nbconvert_exporter": "python",
   "pygments_lexer": "ipython3",
   "version": "3.9.7"
  }
 },
 "nbformat": 4,
 "nbformat_minor": 5
}
